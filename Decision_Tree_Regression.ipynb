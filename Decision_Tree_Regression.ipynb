{
  "nbformat": 4,
  "nbformat_minor": 0,
  "metadata": {
    "colab": {
      "name": "Decision-Tree-Regression.ipynb",
      "provenance": [],
      "authorship_tag": "ABX9TyOcLVZ3GrzPcf6/q4ukkipM",
      "include_colab_link": true
    },
    "kernelspec": {
      "name": "python3",
      "display_name": "Python 3"
    }
  },
  "cells": [
    {
      "cell_type": "markdown",
      "metadata": {
        "id": "view-in-github",
        "colab_type": "text"
      },
      "source": [
        "<a href=\"https://colab.research.google.com/github/cedricbansah/data-science-practice/blob/master/Decision_Tree_Regression.ipynb\" target=\"_parent\"><img src=\"https://colab.research.google.com/assets/colab-badge.svg\" alt=\"Open In Colab\"/></a>"
      ]
    },
    {
      "cell_type": "markdown",
      "metadata": {
        "id": "c_OOAq1777RP"
      },
      "source": [
        "Importing Libraries"
      ]
    },
    {
      "cell_type": "code",
      "metadata": {
        "id": "GNfiilkwrEni"
      },
      "source": [
        " import numpy as np\n",
        " import pandas as pd\n",
        " import matplotlib.pyplot as plt\n"
      ],
      "execution_count": 1,
      "outputs": []
    },
    {
      "cell_type": "markdown",
      "metadata": {
        "id": "nkY60-rK7--T"
      },
      "source": [
        "Importing Dataset"
      ]
    },
    {
      "cell_type": "code",
      "metadata": {
        "id": "dmzWCrHOzAcl"
      },
      "source": [
        "dataset = pd.read_csv('Gaming_data.csv')"
      ],
      "execution_count": 2,
      "outputs": []
    },
    {
      "cell_type": "markdown",
      "metadata": {
        "id": "5foQT3Q98AyC"
      },
      "source": [
        "Extracting features necessary for model"
      ]
    },
    {
      "cell_type": "code",
      "metadata": {
        "id": "ZLr6VIhwzLi1"
      },
      "source": [
        "X = dataset.iloc[:, 0:1].values\n",
        "Y = dataset.iloc[:, 1:2].values"
      ],
      "execution_count": 3,
      "outputs": []
    },
    {
      "cell_type": "markdown",
      "metadata": {
        "id": "EN59gfNx-EkS"
      },
      "source": [
        "Fitting Decision Tree Regression to dataset"
      ]
    },
    {
      "cell_type": "code",
      "metadata": {
        "id": "28tR9Fej0DEK",
        "outputId": "bb0ecfc5-290f-428b-80b3-595371dc8139",
        "colab": {
          "base_uri": "https://localhost:8080/"
        }
      },
      "source": [
        "from sklearn.tree import DecisionTreeRegressor\n",
        "regressor = DecisionTreeRegressor(random_state=0)\n",
        "regressor.fit(X, Y)"
      ],
      "execution_count": 5,
      "outputs": [
        {
          "output_type": "execute_result",
          "data": {
            "text/plain": [
              "DecisionTreeRegressor(ccp_alpha=0.0, criterion='mse', max_depth=None,\n",
              "                      max_features=None, max_leaf_nodes=None,\n",
              "                      min_impurity_decrease=0.0, min_impurity_split=None,\n",
              "                      min_samples_leaf=1, min_samples_split=2,\n",
              "                      min_weight_fraction_leaf=0.0, presort='deprecated',\n",
              "                      random_state=0, splitter='best')"
            ]
          },
          "metadata": {
            "tags": []
          },
          "execution_count": 5
        }
      ]
    },
    {
      "cell_type": "markdown",
      "metadata": {
        "id": "Lq9aSbVw-JPK"
      },
      "source": [
        "Visualising Decision Tree Regression results"
      ]
    },
    {
      "cell_type": "code",
      "metadata": {
        "id": "Uv_P5Mkm46fC",
        "outputId": "1d09a945-270d-4c2a-bb8c-67ecd9c35688",
        "colab": {
          "base_uri": "https://localhost:8080/",
          "height": 295
        }
      },
      "source": [
        "X_grid = np.arange(min(X), max(X), 0.01)\n",
        "X_grid = X_grid.reshape((len(X_grid), 1))\n",
        "plt.scatter(X,Y)\n",
        "plt.plot(X_grid, regressor.predict(X_grid), color='red')\n",
        "plt.title('Gaming Data (Decision Tree)')\n",
        "plt.xlabel('Gaming Levels')\n",
        "plt.ylabel('Points')\n",
        "plt.show()"
      ],
      "execution_count": 11,
      "outputs": [
        {
          "output_type": "display_data",
          "data": {
            "image/png": "[encoded data removed]",
            "text/plain": [
              "<Figure size 432x288 with 1 Axes>"
            ]
          },
          "metadata": {
            "tags": [],
            "needs_background": "light"
          }
        }
      ]
    },
    {
      "cell_type": "code",
      "metadata": {
        "id": "Gp0g_bfV5LZw",
        "outputId": "6853f87c-9173-4398-90a5-dc7ad83e113e",
        "colab": {
          "base_uri": "https://localhost:8080/"
        }
      },
      "source": [
        "Y_pred = regressor.predict([[8.5]])\n",
        "Y_pred"
      ],
      "execution_count": 9,
      "outputs": [
        {
          "output_type": "execute_result",
          "data": {
            "text/plain": [
              "array([300000.])"
            ]
          },
          "metadata": {
            "tags": []
          },
          "execution_count": 9
        }
      ]
    },
    {
      "cell_type": "code",
      "metadata": {
        "id": "xHE4PttjFbD-"
      },
      "source": [
        ""
      ],
      "execution_count": null,
      "outputs": []
    }
  ]
}