{
  "nbformat": 4,
  "nbformat_minor": 0,
  "metadata": {
    "colab": {
      "name": "week-6-notebook.ipynb",
      "provenance": [],
      "authorship_tag": "ABX9TyMXwe2n4eMU6jugdkO8tYRh",
      "include_colab_link": true
    },
    "kernelspec": {
      "name": "python3",
      "display_name": "Python 3"
    }
  },
  "cells": [
    {
      "cell_type": "markdown",
      "metadata": {
        "id": "view-in-github",
        "colab_type": "text"
      },
      "source": [
        "<a href=\"https://colab.research.google.com/github/cedricbansah/data-science-practice/blob/master/week_6_notebook.ipynb\" target=\"_parent\"><img src=\"https://colab.research.google.com/assets/colab-badge.svg\" alt=\"Open In Colab\"/></a>"
      ]
    },
    {
      "cell_type": "markdown",
      "metadata": {
        "id": "TVqQE6CTLCZn",
        "colab_type": "text"
      },
      "source": [
        "#Descriptive Statistics"
      ]
    },
    {
      "cell_type": "code",
      "metadata": {
        "id": "qanxpc4CH9Iy",
        "colab_type": "code",
        "colab": {
          "base_uri": "https://localhost:8080/",
          "height": 185
        },
        "outputId": "3207f800-92fb-4d1b-cd5c-1a3774921fab"
      },
      "source": [
        "import pandas as pd \n",
        "dataset = pd.read_csv('housing.csv') #loading the dataset\n",
        "dataset.head(3) #checking out the first three rows of the dataset"
      ],
      "execution_count": 3,
      "outputs": [
        {
          "output_type": "execute_result",
          "data": {
            "text/html": [
              "<div>\n",
              "<style scoped>\n",
              "    .dataframe tbody tr th:only-of-type {\n",
              "        vertical-align: middle;\n",
              "    }\n",
              "\n",
              "    .dataframe tbody tr th {\n",
              "        vertical-align: top;\n",
              "    }\n",
              "\n",
              "    .dataframe thead th {\n",
              "        text-align: right;\n",
              "    }\n",
              "</style>\n",
              "<table border=\"1\" class=\"dataframe\">\n",
              "  <thead>\n",
              "    <tr style=\"text-align: right;\">\n",
              "      <th></th>\n",
              "      <th>Id</th>\n",
              "      <th>MSSubClass</th>\n",
              "      <th>MSZoning</th>\n",
              "      <th>LotFrontage</th>\n",
              "      <th>LotArea</th>\n",
              "      <th>Street</th>\n",
              "      <th>Alley</th>\n",
              "      <th>LotShape</th>\n",
              "      <th>LandContour</th>\n",
              "      <th>Utilities</th>\n",
              "      <th>LotConfig</th>\n",
              "      <th>LandSlope</th>\n",
              "      <th>Neighborhood</th>\n",
              "      <th>Condition1</th>\n",
              "      <th>Condition2</th>\n",
              "      <th>BldgType</th>\n",
              "      <th>HouseStyle</th>\n",
              "      <th>OverallQual</th>\n",
              "      <th>OverallCond</th>\n",
              "      <th>YearBuilt</th>\n",
              "      <th>YearRemodAdd</th>\n",
              "      <th>RoofStyle</th>\n",
              "      <th>RoofMatl</th>\n",
              "      <th>Exterior1st</th>\n",
              "      <th>Exterior2nd</th>\n",
              "      <th>MasVnrType</th>\n",
              "      <th>MasVnrArea</th>\n",
              "      <th>ExterQual</th>\n",
              "      <th>ExterCond</th>\n",
              "      <th>Foundation</th>\n",
              "      <th>BsmtQual</th>\n",
              "      <th>BsmtCond</th>\n",
              "      <th>BsmtExposure</th>\n",
              "      <th>BsmtFinType1</th>\n",
              "      <th>BsmtFinSF1</th>\n",
              "      <th>BsmtFinType2</th>\n",
              "      <th>BsmtFinSF2</th>\n",
              "      <th>BsmtUnfSF</th>\n",
              "      <th>TotalBsmtSF</th>\n",
              "      <th>Heating</th>\n",
              "      <th>...</th>\n",
              "      <th>CentralAir</th>\n",
              "      <th>Electrical</th>\n",
              "      <th>1stFlrSF</th>\n",
              "      <th>2ndFlrSF</th>\n",
              "      <th>LowQualFinSF</th>\n",
              "      <th>GrLivArea</th>\n",
              "      <th>BsmtFullBath</th>\n",
              "      <th>BsmtHalfBath</th>\n",
              "      <th>FullBath</th>\n",
              "      <th>HalfBath</th>\n",
              "      <th>BedroomAbvGr</th>\n",
              "      <th>KitchenAbvGr</th>\n",
              "      <th>KitchenQual</th>\n",
              "      <th>TotRmsAbvGrd</th>\n",
              "      <th>Functional</th>\n",
              "      <th>Fireplaces</th>\n",
              "      <th>FireplaceQu</th>\n",
              "      <th>GarageType</th>\n",
              "      <th>GarageYrBlt</th>\n",
              "      <th>GarageFinish</th>\n",
              "      <th>GarageCars</th>\n",
              "      <th>GarageArea</th>\n",
              "      <th>GarageQual</th>\n",
              "      <th>GarageCond</th>\n",
              "      <th>PavedDrive</th>\n",
              "      <th>WoodDeckSF</th>\n",
              "      <th>OpenPorchSF</th>\n",
              "      <th>EnclosedPorch</th>\n",
              "      <th>3SsnPorch</th>\n",
              "      <th>ScreenPorch</th>\n",
              "      <th>PoolArea</th>\n",
              "      <th>PoolQC</th>\n",
              "      <th>Fence</th>\n",
              "      <th>MiscFeature</th>\n",
              "      <th>MiscVal</th>\n",
              "      <th>MoSold</th>\n",
              "      <th>YrSold</th>\n",
              "      <th>SaleType</th>\n",
              "      <th>SaleCondition</th>\n",
              "      <th>SalePrice</th>\n",
              "    </tr>\n",
              "  </thead>\n",
              "  <tbody>\n",
              "    <tr>\n",
              "      <th>0</th>\n",
              "      <td>1</td>\n",
              "      <td>60</td>\n",
              "      <td>RL</td>\n",
              "      <td>65.0</td>\n",
              "      <td>8450</td>\n",
              "      <td>Pave</td>\n",
              "      <td>NaN</td>\n",
              "      <td>Reg</td>\n",
              "      <td>Lvl</td>\n",
              "      <td>AllPub</td>\n",
              "      <td>Inside</td>\n",
              "      <td>Gtl</td>\n",
              "      <td>CollgCr</td>\n",
              "      <td>Norm</td>\n",
              "      <td>Norm</td>\n",
              "      <td>1Fam</td>\n",
              "      <td>2Story</td>\n",
              "      <td>7</td>\n",
              "      <td>5</td>\n",
              "      <td>2003</td>\n",
              "      <td>2003</td>\n",
              "      <td>Gable</td>\n",
              "      <td>CompShg</td>\n",
              "      <td>VinylSd</td>\n",
              "      <td>VinylSd</td>\n",
              "      <td>BrkFace</td>\n",
              "      <td>196.0</td>\n",
              "      <td>Gd</td>\n",
              "      <td>TA</td>\n",
              "      <td>PConc</td>\n",
              "      <td>Gd</td>\n",
              "      <td>TA</td>\n",
              "      <td>No</td>\n",
              "      <td>GLQ</td>\n",
              "      <td>706</td>\n",
              "      <td>Unf</td>\n",
              "      <td>0</td>\n",
              "      <td>150</td>\n",
              "      <td>856</td>\n",
              "      <td>GasA</td>\n",
              "      <td>...</td>\n",
              "      <td>Y</td>\n",
              "      <td>SBrkr</td>\n",
              "      <td>856</td>\n",
              "      <td>854</td>\n",
              "      <td>0</td>\n",
              "      <td>1710</td>\n",
              "      <td>1</td>\n",
              "      <td>0</td>\n",
              "      <td>2</td>\n",
              "      <td>1</td>\n",
              "      <td>3</td>\n",
              "      <td>1</td>\n",
              "      <td>Gd</td>\n",
              "      <td>8</td>\n",
              "      <td>Typ</td>\n",
              "      <td>0</td>\n",
              "      <td>NaN</td>\n",
              "      <td>Attchd</td>\n",
              "      <td>2003.0</td>\n",
              "      <td>RFn</td>\n",
              "      <td>2</td>\n",
              "      <td>548</td>\n",
              "      <td>TA</td>\n",
              "      <td>TA</td>\n",
              "      <td>Y</td>\n",
              "      <td>0</td>\n",
              "      <td>61</td>\n",
              "      <td>0</td>\n",
              "      <td>0</td>\n",
              "      <td>0</td>\n",
              "      <td>0</td>\n",
              "      <td>NaN</td>\n",
              "      <td>NaN</td>\n",
              "      <td>NaN</td>\n",
              "      <td>0</td>\n",
              "      <td>2</td>\n",
              "      <td>2008</td>\n",
              "      <td>WD</td>\n",
              "      <td>Normal</td>\n",
              "      <td>208500</td>\n",
              "    </tr>\n",
              "    <tr>\n",
              "      <th>1</th>\n",
              "      <td>2</td>\n",
              "      <td>20</td>\n",
              "      <td>RL</td>\n",
              "      <td>80.0</td>\n",
              "      <td>9600</td>\n",
              "      <td>Pave</td>\n",
              "      <td>NaN</td>\n",
              "      <td>Reg</td>\n",
              "      <td>Lvl</td>\n",
              "      <td>AllPub</td>\n",
              "      <td>FR2</td>\n",
              "      <td>Gtl</td>\n",
              "      <td>Veenker</td>\n",
              "      <td>Feedr</td>\n",
              "      <td>Norm</td>\n",
              "      <td>1Fam</td>\n",
              "      <td>1Story</td>\n",
              "      <td>6</td>\n",
              "      <td>8</td>\n",
              "      <td>1976</td>\n",
              "      <td>1976</td>\n",
              "      <td>Gable</td>\n",
              "      <td>CompShg</td>\n",
              "      <td>MetalSd</td>\n",
              "      <td>MetalSd</td>\n",
              "      <td>None</td>\n",
              "      <td>0.0</td>\n",
              "      <td>TA</td>\n",
              "      <td>TA</td>\n",
              "      <td>CBlock</td>\n",
              "      <td>Gd</td>\n",
              "      <td>TA</td>\n",
              "      <td>Gd</td>\n",
              "      <td>ALQ</td>\n",
              "      <td>978</td>\n",
              "      <td>Unf</td>\n",
              "      <td>0</td>\n",
              "      <td>284</td>\n",
              "      <td>1262</td>\n",
              "      <td>GasA</td>\n",
              "      <td>...</td>\n",
              "      <td>Y</td>\n",
              "      <td>SBrkr</td>\n",
              "      <td>1262</td>\n",
              "      <td>0</td>\n",
              "      <td>0</td>\n",
              "      <td>1262</td>\n",
              "      <td>0</td>\n",
              "      <td>1</td>\n",
              "      <td>2</td>\n",
              "      <td>0</td>\n",
              "      <td>3</td>\n",
              "      <td>1</td>\n",
              "      <td>TA</td>\n",
              "      <td>6</td>\n",
              "      <td>Typ</td>\n",
              "      <td>1</td>\n",
              "      <td>TA</td>\n",
              "      <td>Attchd</td>\n",
              "      <td>1976.0</td>\n",
              "      <td>RFn</td>\n",
              "      <td>2</td>\n",
              "      <td>460</td>\n",
              "      <td>TA</td>\n",
              "      <td>TA</td>\n",
              "      <td>Y</td>\n",
              "      <td>298</td>\n",
              "      <td>0</td>\n",
              "      <td>0</td>\n",
              "      <td>0</td>\n",
              "      <td>0</td>\n",
              "      <td>0</td>\n",
              "      <td>NaN</td>\n",
              "      <td>NaN</td>\n",
              "      <td>NaN</td>\n",
              "      <td>0</td>\n",
              "      <td>5</td>\n",
              "      <td>2007</td>\n",
              "      <td>WD</td>\n",
              "      <td>Normal</td>\n",
              "      <td>181500</td>\n",
              "    </tr>\n",
              "    <tr>\n",
              "      <th>2</th>\n",
              "      <td>3</td>\n",
              "      <td>60</td>\n",
              "      <td>RL</td>\n",
              "      <td>68.0</td>\n",
              "      <td>11250</td>\n",
              "      <td>Pave</td>\n",
              "      <td>NaN</td>\n",
              "      <td>IR1</td>\n",
              "      <td>Lvl</td>\n",
              "      <td>AllPub</td>\n",
              "      <td>Inside</td>\n",
              "      <td>Gtl</td>\n",
              "      <td>CollgCr</td>\n",
              "      <td>Norm</td>\n",
              "      <td>Norm</td>\n",
              "      <td>1Fam</td>\n",
              "      <td>2Story</td>\n",
              "      <td>7</td>\n",
              "      <td>5</td>\n",
              "      <td>2001</td>\n",
              "      <td>2002</td>\n",
              "      <td>Gable</td>\n",
              "      <td>CompShg</td>\n",
              "      <td>VinylSd</td>\n",
              "      <td>VinylSd</td>\n",
              "      <td>BrkFace</td>\n",
              "      <td>162.0</td>\n",
              "      <td>Gd</td>\n",
              "      <td>TA</td>\n",
              "      <td>PConc</td>\n",
              "      <td>Gd</td>\n",
              "      <td>TA</td>\n",
              "      <td>Mn</td>\n",
              "      <td>GLQ</td>\n",
              "      <td>486</td>\n",
              "      <td>Unf</td>\n",
              "      <td>0</td>\n",
              "      <td>434</td>\n",
              "      <td>920</td>\n",
              "      <td>GasA</td>\n",
              "      <td>...</td>\n",
              "      <td>Y</td>\n",
              "      <td>SBrkr</td>\n",
              "      <td>920</td>\n",
              "      <td>866</td>\n",
              "      <td>0</td>\n",
              "      <td>1786</td>\n",
              "      <td>1</td>\n",
              "      <td>0</td>\n",
              "      <td>2</td>\n",
              "      <td>1</td>\n",
              "      <td>3</td>\n",
              "      <td>1</td>\n",
              "      <td>Gd</td>\n",
              "      <td>6</td>\n",
              "      <td>Typ</td>\n",
              "      <td>1</td>\n",
              "      <td>TA</td>\n",
              "      <td>Attchd</td>\n",
              "      <td>2001.0</td>\n",
              "      <td>RFn</td>\n",
              "      <td>2</td>\n",
              "      <td>608</td>\n",
              "      <td>TA</td>\n",
              "      <td>TA</td>\n",
              "      <td>Y</td>\n",
              "      <td>0</td>\n",
              "      <td>42</td>\n",
              "      <td>0</td>\n",
              "      <td>0</td>\n",
              "      <td>0</td>\n",
              "      <td>0</td>\n",
              "      <td>NaN</td>\n",
              "      <td>NaN</td>\n",
              "      <td>NaN</td>\n",
              "      <td>0</td>\n",
              "      <td>9</td>\n",
              "      <td>2008</td>\n",
              "      <td>WD</td>\n",
              "      <td>Normal</td>\n",
              "      <td>223500</td>\n",
              "    </tr>\n",
              "  </tbody>\n",
              "</table>\n",
              "<p>3 rows × 81 columns</p>\n",
              "</div>"
            ],
            "text/plain": [
              "   Id  MSSubClass MSZoning  ...  SaleType  SaleCondition SalePrice\n",
              "0   1          60       RL  ...        WD         Normal    208500\n",
              "1   2          20       RL  ...        WD         Normal    181500\n",
              "2   3          60       RL  ...        WD         Normal    223500\n",
              "\n",
              "[3 rows x 81 columns]"
            ]
          },
          "metadata": {
            "tags": []
          },
          "execution_count": 3
        }
      ]
    },
    {
      "cell_type": "code",
      "metadata": {
        "id": "r6QXcKsmIUHL",
        "colab_type": "code",
        "colab": {
          "base_uri": "https://localhost:8080/",
          "height": 34
        },
        "outputId": "fde5aafc-01a3-4450-fe29-769e5228def1"
      },
      "source": [
        "dataset.shape #viewing the shape of the dataset"
      ],
      "execution_count": 5,
      "outputs": [
        {
          "output_type": "execute_result",
          "data": {
            "text/plain": [
              "(1460, 81)"
            ]
          },
          "metadata": {
            "tags": []
          },
          "execution_count": 5
        }
      ]
    },
    {
      "cell_type": "markdown",
      "metadata": {
        "id": "9ifeWEltLU29",
        "colab_type": "text"
      },
      "source": [
        "Loading the Sales Price column"
      ]
    },
    {
      "cell_type": "code",
      "metadata": {
        "id": "CF7jGSxJKiRp",
        "colab_type": "code",
        "colab": {
          "base_uri": "https://localhost:8080/",
          "height": 286
        },
        "outputId": "ff651dff-ff19-4272-d292-28874700082e"
      },
      "source": [
        "sales_price = pd.Series(dataset['SalePrice'])\n",
        "sales_price.head(15)"
      ],
      "execution_count": 8,
      "outputs": [
        {
          "output_type": "execute_result",
          "data": {
            "text/plain": [
              "0     208500\n",
              "1     181500\n",
              "2     223500\n",
              "3     140000\n",
              "4     250000\n",
              "5     143000\n",
              "6     307000\n",
              "7     200000\n",
              "8     129900\n",
              "9     118000\n",
              "10    129500\n",
              "11    345000\n",
              "12    144000\n",
              "13    279500\n",
              "14    157000\n",
              "Name: SalePrice, dtype: int64"
            ]
          },
          "metadata": {
            "tags": []
          },
          "execution_count": 8
        }
      ]
    },
    {
      "cell_type": "markdown",
      "metadata": {
        "id": "FZXZ6mJXM0YI",
        "colab_type": "text"
      },
      "source": [
        "## Measurs of Central Tendency"
      ]
    },
    {
      "cell_type": "markdown",
      "metadata": {
        "id": "EPDuZtb1NCPn",
        "colab_type": "text"
      },
      "source": [
        "### Mean"
      ]
    },
    {
      "cell_type": "code",
      "metadata": {
        "id": "uGP2GNMEKyPe",
        "colab_type": "code",
        "colab": {
          "base_uri": "https://localhost:8080/",
          "height": 34
        },
        "outputId": "50361714-34bf-4b64-c769-928a41121c0e"
      },
      "source": [
        "import numpy as np \n",
        "mean_sp = np.mean(sales_price)\n",
        "mean_sp"
      ],
      "execution_count": 11,
      "outputs": [
        {
          "output_type": "execute_result",
          "data": {
            "text/plain": [
              "180921.19589041095"
            ]
          },
          "metadata": {
            "tags": []
          },
          "execution_count": 11
        }
      ]
    },
    {
      "cell_type": "markdown",
      "metadata": {
        "id": "-r10_T1eOZqH",
        "colab_type": "text"
      },
      "source": [
        "Finding mean is not a good approach as the 'Mean is often affected by Outliers' or in simple words if there are some observations larger or smaller than majority of the other observations then the mean tends to deviate towards these values.\n",
        "\n",
        "To generalize it if the distribution of datasets is skewed(troubled by outliers), we do not choose mean. Here we will have to go for Median."
      ]
    },
    {
      "cell_type": "markdown",
      "metadata": {
        "id": "ybaGju5nNg9E",
        "colab_type": "text"
      },
      "source": [
        "### Median"
      ]
    },
    {
      "cell_type": "code",
      "metadata": {
        "id": "xgIwA5_1Sfwq",
        "colab_type": "code",
        "colab": {
          "base_uri": "https://localhost:8080/",
          "height": 84
        },
        "outputId": "abb04eab-b336-447b-c0f1-3def7b53577c"
      },
      "source": [
        "import numpy as np\n",
        "\n",
        "q1_sp = sales_price.quantile(0.25) #lower quartile\n",
        "median_sp = sales_price.median() #median\n",
        "q3_sp = sales_price.quantile(0.75) #upper quartile\n",
        "iqr = q3_sp - q1_sp\n",
        "print(\"Lower Quartile: \", q1_sp)\n",
        "print(\"Median: \", median_sp)\n",
        "print(\"Upper Quartile: \", q3_sp)\n",
        "print(\"Interquartile Range: \", iqr)"
      ],
      "execution_count": 28,
      "outputs": [
        {
          "output_type": "stream",
          "text": [
            "Lower Quartile:  129975.0\n",
            "Median:  163000.0\n",
            "Upper Quartile:  214000.0\n",
            "Interquartile Range:  84025.0\n"
          ],
          "name": "stdout"
        }
      ]
    },
    {
      "cell_type": "markdown",
      "metadata": {
        "id": "kTBPlPlLULyG",
        "colab_type": "text"
      },
      "source": [
        "Mean = 180921.19589041095\n",
        "\n",
        "Median = 163000.0\n",
        "\n",
        "That is almost a difference of around 20000. This set of observations is definitely skewed"
      ]
    },
    {
      "cell_type": "code",
      "metadata": {
        "id": "O2m0S9ULN2zJ",
        "colab_type": "code",
        "colab": {}
      },
      "source": [
        "import matplotlib.pyplot as plt\n",
        "def box_plot():\n",
        "  plt.boxplot(sales_price)\n",
        "  plt.show()"
      ],
      "execution_count": 15,
      "outputs": []
    },
    {
      "cell_type": "code",
      "metadata": {
        "id": "OB_H4TOoPCtD",
        "colab_type": "code",
        "colab": {
          "base_uri": "https://localhost:8080/",
          "height": 265
        },
        "outputId": "8f212372-f7af-4d4e-dc29-867cb195794a"
      },
      "source": [
        "box_plot()"
      ],
      "execution_count": 18,
      "outputs": [
        {
          "output_type": "display_data",
          "data": {
            "image/png": "[encoded data removed]",
            "text/plain": [
              "<Figure size 432x288 with 1 Axes>"
            ]
          },
          "metadata": {
            "tags": [],
            "needs_background": "light"
          }
        }
      ]
    },
    {
      "cell_type": "markdown",
      "metadata": {
        "id": "S8onlQb9SocY",
        "colab_type": "text"
      },
      "source": [
        "The Boxplot above shows some additional observations above MAXIMUM. These are Outliers."
      ]
    },
    {
      "cell_type": "code",
      "metadata": {
        "id": "FCB7X4G3T5PN",
        "colab_type": "code",
        "colab": {
          "base_uri": "https://localhost:8080/",
          "height": 50
        },
        "outputId": "18d8a85c-f602-40dd-df85-4569ea83698e"
      },
      "source": [
        "#code to find number of outliers \n",
        "\n",
        "outlier_lower_limit = q1_sp - 1.5 * iqr \n",
        "outlier_upper_limit = q3_sp + 1.5 * iqr \n",
        "print(outlier_lower_limit)\n",
        "print(outlier_upper_limit)"
      ],
      "execution_count": 22,
      "outputs": [
        {
          "output_type": "stream",
          "text": [
            "3937.5\n",
            "340037.5\n"
          ],
          "name": "stdout"
        }
      ]
    },
    {
      "cell_type": "code",
      "metadata": {
        "id": "f7JQdWa0VNYk",
        "colab_type": "code",
        "colab": {
          "base_uri": "https://localhost:8080/",
          "height": 50
        },
        "outputId": "829cd493-bf36-4ab8-f709-c5b85b5a6b99"
      },
      "source": [
        "lowerlimit_outliers = sales_price[sales_price < outlier_lower_limit].count()\n",
        "upperlimit_outliers = sales_price[sales_price > outlier_upper_limit].count()\n",
        "\n",
        "print(\"Upper Outliers: \", upperlimit_outliers)\n",
        "print(\"Lower Outliers: \", lowerlimit_outliers)"
      ],
      "execution_count": 23,
      "outputs": [
        {
          "output_type": "stream",
          "text": [
            "Upper Outliers:  61\n",
            "Lower Outliers:  0\n"
          ],
          "name": "stdout"
        }
      ]
    },
    {
      "cell_type": "markdown",
      "metadata": {
        "id": "39ggEDhrXqah",
        "colab_type": "text"
      },
      "source": [
        "Another way of checking if the median should be considered is by plotting a histogram and observing the bins "
      ]
    },
    {
      "cell_type": "code",
      "metadata": {
        "id": "EOtZtNbbVzlq",
        "colab_type": "code",
        "colab": {
          "base_uri": "https://localhost:8080/",
          "height": 265
        },
        "outputId": "609e1987-2d94-419a-d93c-4ad336ea0817"
      },
      "source": [
        "plt.hist(sales_price, bins=60)\n",
        "plt.show()"
      ],
      "execution_count": 24,
      "outputs": [
        {
          "output_type": "display_data",
          "data": {
            "image/png": "[encoded data removed]",
            "text/plain": [
              "<Figure size 432x288 with 1 Axes>"
            ]
          },
          "metadata": {
            "tags": [],
            "needs_background": "light"
          }
        }
      ]
    },
    {
      "cell_type": "markdown",
      "metadata": {
        "id": "J-SwqTmPYHfw",
        "colab_type": "text"
      },
      "source": [
        "By observing the histogram it is evident that the data peaks towards the left side of the histogram therefore the data is positively skewed"
      ]
    },
    {
      "cell_type": "markdown",
      "metadata": {
        "id": "DWtne_bvYm_f",
        "colab_type": "text"
      },
      "source": [
        "### Mode"
      ]
    },
    {
      "cell_type": "code",
      "metadata": {
        "id": "oQ798nB-X9oN",
        "colab_type": "code",
        "colab": {
          "base_uri": "https://localhost:8080/",
          "height": 50
        },
        "outputId": "6c02beb7-26a9-409f-b17c-b68f910905d1"
      },
      "source": [
        "mode_sp = sales_price.mode()\n",
        "mode_sp"
      ],
      "execution_count": 27,
      "outputs": [
        {
          "output_type": "execute_result",
          "data": {
            "text/plain": [
              "0    140000\n",
              "dtype: int64"
            ]
          },
          "metadata": {
            "tags": []
          },
          "execution_count": 27
        }
      ]
    },
    {
      "cell_type": "markdown",
      "metadata": {
        "id": "6DaXhqlLY1bM",
        "colab_type": "text"
      },
      "source": [
        "### Plotting The Median, Mean and Mode for the SalePrice Column"
      ]
    },
    {
      "cell_type": "code",
      "metadata": {
        "id": "tcCe8NUqYwLn",
        "colab_type": "code",
        "colab": {
          "base_uri": "https://localhost:8080/",
          "height": 269
        },
        "outputId": "b9b528e5-e669-4793-c82f-df19cb9a1cfd"
      },
      "source": [
        "plt.figure()\n",
        "plt.hist(sales_price,bins=40)\n",
        "plt.plot([mode_sp]*300, range(300), label='mode')\n",
        "plt.plot([median_sp]*300, range(300), label='median')\n",
        "plt.plot([mean_sp]*300, range(300), label='mean')\n",
        "plt.ylim(0,300)\n",
        "plt.legend()\n",
        "plt.show()"
      ],
      "execution_count": 32,
      "outputs": [
        {
          "output_type": "display_data",
          "data": {
            "image/png": "[encoded data removed]",
            "text/plain": [
              "<Figure size 432x288 with 1 Axes>"
            ]
          },
          "metadata": {
            "tags": [],
            "needs_background": "light"
          }
        }
      ]
    },
    {
      "cell_type": "markdown",
      "metadata": {
        "id": "nOmofNWZbi8M",
        "colab_type": "text"
      },
      "source": [
        "## Spread of the data "
      ]
    },
    {
      "cell_type": "markdown",
      "metadata": {
        "id": "iryU8__Mb4R8",
        "colab_type": "text"
      },
      "source": [
        "### Range"
      ]
    },
    {
      "cell_type": "code",
      "metadata": {
        "id": "D7-nPfXvabt_",
        "colab_type": "code",
        "colab": {
          "base_uri": "https://localhost:8080/",
          "height": 34
        },
        "outputId": "7695646a-6d60-4583-abd5-27a8a3b1167f"
      },
      "source": [
        "range_sp = np.max(sales_price) - np.min(sales_price)\n",
        "range_sp"
      ],
      "execution_count": 34,
      "outputs": [
        {
          "output_type": "execute_result",
          "data": {
            "text/plain": [
              "720100"
            ]
          },
          "metadata": {
            "tags": []
          },
          "execution_count": 34
        }
      ]
    },
    {
      "cell_type": "markdown",
      "metadata": {
        "id": "1GBAE3d5b6i7",
        "colab_type": "text"
      },
      "source": [
        "### Variance"
      ]
    },
    {
      "cell_type": "code",
      "metadata": {
        "id": "eXcBvKG7bvpg",
        "colab_type": "code",
        "colab": {
          "base_uri": "https://localhost:8080/",
          "height": 34
        },
        "outputId": "098f628e-10fe-401e-ba78-d9edc48e93b8"
      },
      "source": [
        "variance_sp = sales_price.var()\n",
        "variance_sp"
      ],
      "execution_count": 35,
      "outputs": [
        {
          "output_type": "execute_result",
          "data": {
            "text/plain": [
              "6311111264.297451"
            ]
          },
          "metadata": {
            "tags": []
          },
          "execution_count": 35
        }
      ]
    },
    {
      "cell_type": "markdown",
      "metadata": {
        "id": "WOT4kKP-da2M",
        "colab_type": "text"
      },
      "source": [
        "### Standard Deviation"
      ]
    },
    {
      "cell_type": "code",
      "metadata": {
        "id": "aionvLLWdWsw",
        "colab_type": "code",
        "colab": {
          "base_uri": "https://localhost:8080/",
          "height": 34
        },
        "outputId": "b3b2b5b9-6eeb-40ff-cb4e-eedb52037fc5"
      },
      "source": [
        "from math import sqrt \n",
        "std_sp = sqrt(variance_sp)\n",
        "std_sp"
      ],
      "execution_count": 36,
      "outputs": [
        {
          "output_type": "execute_result",
          "data": {
            "text/plain": [
              "79442.50288288663"
            ]
          },
          "metadata": {
            "tags": []
          },
          "execution_count": 36
        }
      ]
    },
    {
      "cell_type": "code",
      "metadata": {
        "id": "LM7h6iVMdkwW",
        "colab_type": "code",
        "colab": {
          "base_uri": "https://localhost:8080/",
          "height": 34
        },
        "outputId": "e5e14951-965b-42a6-bc2c-6f2e6d590572"
      },
      "source": [
        "#How far is the price of a particular house from the mean when compared to other points in the dataset?\n",
        "(250000-mean_sp)/std_sp"
      ],
      "execution_count": 37,
      "outputs": [
        {
          "output_type": "execute_result",
          "data": {
            "text/plain": [
              "0.8695446593799336"
            ]
          },
          "metadata": {
            "tags": []
          },
          "execution_count": 37
        }
      ]
    },
    {
      "cell_type": "markdown",
      "metadata": {
        "id": "2a2XfjEsflv6",
        "colab_type": "text"
      },
      "source": [
        "## Correlation "
      ]
    },
    {
      "cell_type": "code",
      "metadata": {
        "id": "HHwE62zSfJZl",
        "colab_type": "code",
        "colab": {
          "base_uri": "https://localhost:8080/",
          "height": 34
        },
        "outputId": "acf0e43e-ff0f-474d-8d77-215aee965bc9"
      },
      "source": [
        "#What is the correlation between Sales Price and the Living Room area? \n",
        "living_room_area = pd.Series(dataset['GrLivArea'])\n",
        "np.corrcoef(sales_price, living_room_area)[0,1] # Returns Pearson product-moment correlation coefficients."
      ],
      "execution_count": 41,
      "outputs": [
        {
          "output_type": "execute_result",
          "data": {
            "text/plain": [
              "0.7086244776126523"
            ]
          },
          "metadata": {
            "tags": []
          },
          "execution_count": 41
        }
      ]
    },
    {
      "cell_type": "markdown",
      "metadata": {
        "id": "BQUqxsfFtWrZ",
        "colab_type": "text"
      },
      "source": [
        "### Heatmaps"
      ]
    },
    {
      "cell_type": "code",
      "metadata": {
        "id": "Zi1qPm1egijx",
        "colab_type": "code",
        "colab": {
          "base_uri": "https://localhost:8080/",
          "height": 406
        },
        "outputId": "fca76307-7d32-42b9-b2ae-5f6affee8e00"
      },
      "source": [
        "# Plotting a heatmap to see the correlation trend between different variables \n",
        "import seaborn as sns\n",
        "%matplotlib inline \n",
        "x = dataset[['LotArea', 'GrLivArea','GarageArea','SalePrice']]\n",
        "corr = x.corr()  #computes pairwise correlation of columsn excluding null values\n",
        "sns.heatmap(corr)\n",
        "print(corr)"
      ],
      "execution_count": 42,
      "outputs": [
        {
          "output_type": "stream",
          "text": [
            "/usr/local/lib/python3.6/dist-packages/statsmodels/tools/_testing.py:19: FutureWarning: pandas.util.testing is deprecated. Use the functions in the public API at pandas.testing instead.\n",
            "  import pandas.util.testing as tm\n"
          ],
          "name": "stderr"
        },
        {
          "output_type": "stream",
          "text": [
            "             LotArea  GrLivArea  GarageArea  SalePrice\n",
            "LotArea     1.000000   0.263116    0.180403   0.263843\n",
            "GrLivArea   0.263116   1.000000    0.468997   0.708624\n",
            "GarageArea  0.180403   0.468997    1.000000   0.623431\n",
            "SalePrice   0.263843   0.708624    0.623431   1.000000\n"
          ],
          "name": "stdout"
        },
        {
          "output_type": "display_data",
          "data": {
            "image/png": "[encoded data removed]",
            "text/plain": [
              "<Figure size 432x288 with 2 Axes>"
            ]
          },
          "metadata": {
            "tags": [],
            "needs_background": "light"
          }
        }
      ]
    },
    {
      "cell_type": "markdown",
      "metadata": {
        "id": "bfRDRQT9wZEp",
        "colab_type": "text"
      },
      "source": [
        "#Challenges"
      ]
    },
    {
      "cell_type": "markdown",
      "metadata": {
        "id": "6RJZk_U3wghV",
        "colab_type": "text"
      },
      "source": [
        "### Mean and Median for WInd Speed and Temperature columns"
      ]
    },
    {
      "cell_type": "code",
      "metadata": {
        "id": "X8ORcUAVuOUU",
        "colab_type": "code",
        "colab": {}
      },
      "source": [
        "weatherdata = pd.read_csv('/content/weather_2012.csv')\n",
        "wind_speed = pd.Series(weatherdata['Wind Spd (km/h)'])\n",
        "temperature = pd.Series(weatherdata['Temp (C)'])"
      ],
      "execution_count": 44,
      "outputs": []
    },
    {
      "cell_type": "code",
      "metadata": {
        "id": "uFPxuRnhw0Vz",
        "colab_type": "code",
        "colab": {
          "base_uri": "https://localhost:8080/",
          "height": 84
        },
        "outputId": "96d7b7b3-a679-4de6-ebca-56a79080c673"
      },
      "source": [
        "ws_mean = wind_speed.mean()\n",
        "ws_median = wind_speed.median()\n",
        "temp_mean = temperature.mean()\n",
        "temp_median = temperature.median()\n",
        "print('Mean of the Wind Speed column is: ', ws_mean, 'km/h')\n",
        "print('Mean of the Temperature column is: ', temp_mean, 'C')\n",
        "print('Median of the Wind Speed column is: ', ws_median, 'km/h')\n",
        "print('Median of the Temperature column is: ', temp_median, 'C')"
      ],
      "execution_count": 45,
      "outputs": [
        {
          "output_type": "stream",
          "text": [
            "Mean of the Wind Speed column is:  14.94546903460838 km/h\n",
            "Mean of the Temperature column is:  8.79814435336981 C\n",
            "Median of the Wind Speed column is:  13.0 km/h\n",
            "Median of the Temperature column is:  9.3 C\n"
          ],
          "name": "stdout"
        }
      ]
    },
    {
      "cell_type": "markdown",
      "metadata": {
        "id": "VJttZbgjyIgl",
        "colab_type": "text"
      },
      "source": [
        "### Mode of Wind Speed column"
      ]
    },
    {
      "cell_type": "code",
      "metadata": {
        "id": "2AQL0Y3KyBjr",
        "colab_type": "code",
        "colab": {
          "base_uri": "https://localhost:8080/",
          "height": 50
        },
        "outputId": "c857fa5d-85e2-4edd-da94-d5dbc83a65e5"
      },
      "source": [
        "ws_mode = wind_speed.mode()\n",
        "print('Mode of the Wind Speed column is: ', ws_mode)"
      ],
      "execution_count": 48,
      "outputs": [
        {
          "output_type": "stream",
          "text": [
            "Mode of the Wind Speed column is:  0    9\n",
            "dtype: int64\n"
          ],
          "name": "stdout"
        }
      ]
    },
    {
      "cell_type": "markdown",
      "metadata": {
        "id": "FaIHwA1PzEWO",
        "colab_type": "text"
      },
      "source": [
        "### Histogram of Wind Speed and Temperature to check skewness"
      ]
    },
    {
      "cell_type": "code",
      "metadata": {
        "id": "VAGsHhEQyUDW",
        "colab_type": "code",
        "colab": {
          "base_uri": "https://localhost:8080/",
          "height": 265
        },
        "outputId": "f059ce5d-043b-4884-8d68-6776922fde83"
      },
      "source": [
        "plt.hist(wind_speed, bins=range(0,55,5),histtype='bar')\n",
        "plt.show()"
      ],
      "execution_count": 56,
      "outputs": [
        {
          "output_type": "display_data",
          "data": {
            "image/png": "[encoded data removed]",
            "text/plain": [
              "<Figure size 432x288 with 1 Axes>"
            ]
          },
          "metadata": {
            "tags": [],
            "needs_background": "light"
          }
        }
      ]
    },
    {
      "cell_type": "code",
      "metadata": {
        "id": "9mY-vFH60GP0",
        "colab_type": "code",
        "colab": {
          "base_uri": "https://localhost:8080/",
          "height": 265
        },
        "outputId": "a2163a5e-1e97-4cd0-ef73-e316519af616"
      },
      "source": [
        "plt.hist(temperature, bins=10)\n",
        "plt.show()"
      ],
      "execution_count": 57,
      "outputs": [
        {
          "output_type": "display_data",
          "data": {
            "image/png": "[encoded data removed]",
            "text/plain": [
              "<Figure size 432x288 with 1 Axes>"
            ]
          },
          "metadata": {
            "tags": [],
            "needs_background": "light"
          }
        }
      ]
    },
    {
      "cell_type": "code",
      "metadata": {
        "id": "4q6-FiJp1EuP",
        "colab_type": "code",
        "colab": {}
      },
      "source": [
        ""
      ],
      "execution_count": null,
      "outputs": []
    }
  ]
}