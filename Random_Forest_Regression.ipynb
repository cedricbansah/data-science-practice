{
  "nbformat": 4,
  "nbformat_minor": 0,
  "metadata": {
    "colab": {
      "name": "Random-Forest-Regression.ipynb",
      "provenance": [],
      "authorship_tag": "ABX9TyOMLLt/9VUlurCfI9iW1iZB",
      "include_colab_link": true
    },
    "kernelspec": {
      "name": "python3",
      "display_name": "Python 3"
    }
  },
  "cells": [
    {
      "cell_type": "markdown",
      "metadata": {
        "id": "view-in-github",
        "colab_type": "text"
      },
      "source": [
        "<a href=\"https://colab.research.google.com/github/cedricbansah/data-science-practice/blob/master/Random_Forest_Regression.ipynb\" target=\"_parent\"><img src=\"https://colab.research.google.com/assets/colab-badge.svg\" alt=\"Open In Colab\"/></a>"
      ]
    },
    {
      "cell_type": "markdown",
      "metadata": {
        "id": "c_OOAq1777RP"
      },
      "source": [
        "Importing Libraries"
      ]
    },
    {
      "cell_type": "code",
      "metadata": {
        "id": "GNfiilkwrEni"
      },
      "source": [
        " import numpy as np\n",
        " import pandas as pd\n",
        " import matplotlib.pyplot as plt"
      ],
      "execution_count": 1,
      "outputs": []
    },
    {
      "cell_type": "markdown",
      "metadata": {
        "id": "nkY60-rK7--T"
      },
      "source": [
        "Importing Dataset"
      ]
    },
    {
      "cell_type": "code",
      "metadata": {
        "id": "dmzWCrHOzAcl"
      },
      "source": [
        "dataset = pd.read_csv('Gaming_data.csv')"
      ],
      "execution_count": 2,
      "outputs": []
    },
    {
      "cell_type": "markdown",
      "metadata": {
        "id": "5foQT3Q98AyC"
      },
      "source": [
        "Extracting features necessary for model"
      ]
    },
    {
      "cell_type": "code",
      "metadata": {
        "id": "ZLr6VIhwzLi1"
      },
      "source": [
        "X = dataset.iloc[:, 0:1].values\n",
        "Y = dataset.iloc[:, 1:2].values"
      ],
      "execution_count": 3,
      "outputs": []
    },
    {
      "cell_type": "markdown",
      "metadata": {
        "id": "EN59gfNx-EkS"
      },
      "source": [
        "Fitting Random Forest Regression to dataset"
      ]
    },
    {
      "cell_type": "code",
      "metadata": {
        "id": "28tR9Fej0DEK",
        "outputId": "c467df0b-772c-42cc-846d-c5349d7b28a7",
        "colab": {
          "base_uri": "https://localhost:8080/"
        }
      },
      "source": [
        "from sklearn.ensemble import RandomForestRegressor\n",
        "regressor = RandomForestRegressor(n_estimators=300, random_state = 0)\n",
        "regressor.fit(X, Y.ravel())"
      ],
      "execution_count": 11,
      "outputs": [
        {
          "output_type": "execute_result",
          "data": {
            "text/plain": [
              "RandomForestRegressor(bootstrap=True, ccp_alpha=0.0, criterion='mse',\n",
              "                      max_depth=None, max_features='auto', max_leaf_nodes=None,\n",
              "                      max_samples=None, min_impurity_decrease=0.0,\n",
              "                      min_impurity_split=None, min_samples_leaf=1,\n",
              "                      min_samples_split=2, min_weight_fraction_leaf=0.0,\n",
              "                      n_estimators=300, n_jobs=None, oob_score=False,\n",
              "                      random_state=0, verbose=0, warm_start=False)"
            ]
          },
          "metadata": {
            "tags": []
          },
          "execution_count": 11
        }
      ]
    },
    {
      "cell_type": "markdown",
      "metadata": {
        "id": "Lq9aSbVw-JPK"
      },
      "source": [
        "Visualising Random Forest Regression results"
      ]
    },
    {
      "cell_type": "code",
      "metadata": {
        "id": "Uv_P5Mkm46fC",
        "outputId": "457b94eb-806d-43fc-97e7-9e15728dcfb5",
        "colab": {
          "base_uri": "https://localhost:8080/",
          "height": 295
        }
      },
      "source": [
        "X_grid = np.arange(min(X), max(X), 0.01)\n",
        "X_grid = X_grid.reshape((len(X_grid), 1))\n",
        "plt.scatter(X,Y) \n",
        "plt.plot(X_grid, regressor.predict(X_grid), color='red')\n",
        "plt.title('Gaming Data (Random Forest)')\n",
        "plt.xlabel('Gaming Levels')\n",
        "plt.ylabel('Points')\n",
        "plt.show()"
      ],
      "execution_count": 12,
      "outputs": [
        {
          "output_type": "display_data",
          "data": {
            "image/png": "[encoded data removed]",
            "text/plain": [
              "<Figure size 432x288 with 1 Axes>"
            ]
          },
          "metadata": {
            "tags": [],
            "needs_background": "light"
          }
        }
      ]
    },
    {
      "cell_type": "code",
      "metadata": {
        "id": "Gp0g_bfV5LZw",
        "outputId": "66dfbd61-f30e-451f-e75b-19a93a7cbc62",
        "colab": {
          "base_uri": "https://localhost:8080/"
        }
      },
      "source": [
        "Y_pred = regressor.predict([[8.5]])\n",
        "Y_pred"
      ],
      "execution_count": 13,
      "outputs": [
        {
          "output_type": "execute_result",
          "data": {
            "text/plain": [
              "array([363666.66666667])"
            ]
          },
          "metadata": {
            "tags": []
          },
          "execution_count": 13
        }
      ]
    }
  ]
}