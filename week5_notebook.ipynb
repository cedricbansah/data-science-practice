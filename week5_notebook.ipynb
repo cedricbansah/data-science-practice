{
  "nbformat": 4,
  "nbformat_minor": 0,
  "metadata": {
    "colab": {
      "name": "week5_notebook.ipynb",
      "provenance": [],
      "toc_visible": true,
      "authorship_tag": "ABX9TyOeEExWpHAJ+GVcTX5v3aoY",
      "include_colab_link": true
    },
    "kernelspec": {
      "name": "python3",
      "display_name": "Python 3"
    }
  },
  "cells": [
    {
      "cell_type": "markdown",
      "metadata": {
        "id": "view-in-github",
        "colab_type": "text"
      },
      "source": [
        "<a href=\"https://colab.research.google.com/github/cedricbansah/data-science-practice/blob/master/week5_notebook.ipynb\" target=\"_parent\"><img src=\"https://colab.research.google.com/assets/colab-badge.svg\" alt=\"Open In Colab\"/></a>"
      ]
    },
    {
      "cell_type": "code",
      "metadata": {
        "id": "RqGJA-74IXYi",
        "colab_type": "code",
        "colab": {}
      },
      "source": [
        "#importing libraries\n",
        "from matplotlib import pyplot as plt\n",
        "import numpy as np\n",
        "\n",
        "#setting it up to work with notebook\n",
        "%matplotlib inline"
      ],
      "execution_count": 1,
      "outputs": []
    },
    {
      "cell_type": "markdown",
      "metadata": {
        "id": "cxi5RbuzI_5-",
        "colab_type": "text"
      },
      "source": [
        "#Sample"
      ]
    },
    {
      "cell_type": "code",
      "metadata": {
        "id": "c7vXQF_UIxDv",
        "colab_type": "code",
        "colab": {}
      },
      "source": [
        "def create_sample_chart():\n",
        "  x = np.arange(10)\n",
        "  y = x ** 2\n",
        "\n",
        "  #plotting to canvas \n",
        "  plt.plot(x,y)\n",
        "  \n",
        "  #title of canvas \n",
        "  plt.title('Sample plot')\n",
        "\n",
        "  #X label \n",
        "  plt.xlabel('X values')\n",
        "\n",
        "  #Y label\n",
        "  plt.ylabel('Y values')\n",
        "\n",
        "  #showing what was created \n",
        "  plt.show();"
      ],
      "execution_count": 10,
      "outputs": []
    },
    {
      "cell_type": "code",
      "metadata": {
        "id": "VdAOk0PbJt3o",
        "colab_type": "code",
        "colab": {
          "base_uri": "https://localhost:8080/",
          "height": 295
        },
        "outputId": "90057fd8-d018-4bc6-d59a-b41aea8391c7"
      },
      "source": [
        "create_sample_chart()"
      ],
      "execution_count": 11,
      "outputs": [
        {
          "output_type": "display_data",
          "data": {
            "image/png": "[encoded data removed]",
            "text/plain": [
              "<Figure size 432x288 with 1 Axes>"
            ]
          },
          "metadata": {
            "tags": [],
            "needs_background": "light"
          }
        }
      ]
    },
    {
      "cell_type": "markdown",
      "metadata": {
        "id": "acEohy_wKUht",
        "colab_type": "text"
      },
      "source": [
        "mini challenge 1"
      ]
    },
    {
      "cell_type": "code",
      "metadata": {
        "id": "M2I9qKrpKBJu",
        "colab_type": "code",
        "colab": {}
      },
      "source": [
        "from math import sin\n",
        "\n",
        "def create_sine_chart():\n",
        "  x = np.arange(10)\n",
        "  y = np.sin(x)\n",
        "\n",
        "  #plotting to canvas \n",
        "  plt.plot(x,y)\n",
        "  \n",
        "  #title of canvas \n",
        "  plt.title('Sample plot')\n",
        "\n",
        "  #X label \n",
        "  plt.xlabel('X values')\n",
        "\n",
        "  #Y label\n",
        "  plt.ylabel('Y values')\n",
        "\n",
        "  #showing what was created \n",
        "  plt.show();"
      ],
      "execution_count": 19,
      "outputs": []
    },
    {
      "cell_type": "code",
      "metadata": {
        "id": "ILi31SNFKoxZ",
        "colab_type": "code",
        "colab": {
          "base_uri": "https://localhost:8080/",
          "height": 295
        },
        "outputId": "d29e88a4-3bb2-4f9b-d9f4-75b63bd8480d"
      },
      "source": [
        "create_sine_chart()"
      ],
      "execution_count": 20,
      "outputs": [
        {
          "output_type": "display_data",
          "data": {
            "image/png": "[encoded data removed]",
            "text/plain": [
              "<Figure size 432x288 with 1 Axes>"
            ]
          },
          "metadata": {
            "tags": [],
            "needs_background": "light"
          }
        }
      ]
    },
    {
      "cell_type": "markdown",
      "metadata": {
        "id": "bqKjJC7FLR8A",
        "colab_type": "text"
      },
      "source": [
        "Visualising the Weather Data"
      ]
    },
    {
      "cell_type": "code",
      "metadata": {
        "id": "4TXDCItjKr2F",
        "colab_type": "code",
        "colab": {
          "base_uri": "https://localhost:8080/",
          "height": 231
        },
        "outputId": "1fdfaad1-0a6c-4d08-fd77-4463552f956e"
      },
      "source": [
        "import pandas as pd \n",
        "\n",
        "weather_df = pd.read_csv('/content/weather_2012.csv', parse_dates = True, index_col = 'Date/Time')\n",
        "weather_df.head()"
      ],
      "execution_count": 21,
      "outputs": [
        {
          "output_type": "execute_result",
          "data": {
            "text/html": [
              "<div>\n",
              "<style scoped>\n",
              "    .dataframe tbody tr th:only-of-type {\n",
              "        vertical-align: middle;\n",
              "    }\n",
              "\n",
              "    .dataframe tbody tr th {\n",
              "        vertical-align: top;\n",
              "    }\n",
              "\n",
              "    .dataframe thead th {\n",
              "        text-align: right;\n",
              "    }\n",
              "</style>\n",
              "<table border=\"1\" class=\"dataframe\">\n",
              "  <thead>\n",
              "    <tr style=\"text-align: right;\">\n",
              "      <th></th>\n",
              "      <th>Temp (C)</th>\n",
              "      <th>Dew Point Temp (C)</th>\n",
              "      <th>Rel Hum (%)</th>\n",
              "      <th>Wind Spd (km/h)</th>\n",
              "      <th>Visibility (km)</th>\n",
              "      <th>Stn Press (kPa)</th>\n",
              "      <th>Weather</th>\n",
              "    </tr>\n",
              "    <tr>\n",
              "      <th>Date/Time</th>\n",
              "      <th></th>\n",
              "      <th></th>\n",
              "      <th></th>\n",
              "      <th></th>\n",
              "      <th></th>\n",
              "      <th></th>\n",
              "      <th></th>\n",
              "    </tr>\n",
              "  </thead>\n",
              "  <tbody>\n",
              "    <tr>\n",
              "      <th>2012-01-01 00:00:00</th>\n",
              "      <td>-1.8</td>\n",
              "      <td>-3.9</td>\n",
              "      <td>86</td>\n",
              "      <td>4</td>\n",
              "      <td>8.0</td>\n",
              "      <td>101.24</td>\n",
              "      <td>Fog</td>\n",
              "    </tr>\n",
              "    <tr>\n",
              "      <th>2012-01-01 01:00:00</th>\n",
              "      <td>-1.8</td>\n",
              "      <td>-3.7</td>\n",
              "      <td>87</td>\n",
              "      <td>4</td>\n",
              "      <td>8.0</td>\n",
              "      <td>101.24</td>\n",
              "      <td>Fog</td>\n",
              "    </tr>\n",
              "    <tr>\n",
              "      <th>2012-01-01 02:00:00</th>\n",
              "      <td>-1.8</td>\n",
              "      <td>-3.4</td>\n",
              "      <td>89</td>\n",
              "      <td>7</td>\n",
              "      <td>4.0</td>\n",
              "      <td>101.26</td>\n",
              "      <td>Freezing Drizzle,Fog</td>\n",
              "    </tr>\n",
              "    <tr>\n",
              "      <th>2012-01-01 03:00:00</th>\n",
              "      <td>-1.5</td>\n",
              "      <td>-3.2</td>\n",
              "      <td>88</td>\n",
              "      <td>6</td>\n",
              "      <td>4.0</td>\n",
              "      <td>101.27</td>\n",
              "      <td>Freezing Drizzle,Fog</td>\n",
              "    </tr>\n",
              "    <tr>\n",
              "      <th>2012-01-01 04:00:00</th>\n",
              "      <td>-1.5</td>\n",
              "      <td>-3.3</td>\n",
              "      <td>88</td>\n",
              "      <td>7</td>\n",
              "      <td>4.8</td>\n",
              "      <td>101.23</td>\n",
              "      <td>Fog</td>\n",
              "    </tr>\n",
              "  </tbody>\n",
              "</table>\n",
              "</div>"
            ],
            "text/plain": [
              "                     Temp (C)  ...               Weather\n",
              "Date/Time                      ...                      \n",
              "2012-01-01 00:00:00      -1.8  ...                   Fog\n",
              "2012-01-01 01:00:00      -1.8  ...                   Fog\n",
              "2012-01-01 02:00:00      -1.8  ...  Freezing Drizzle,Fog\n",
              "2012-01-01 03:00:00      -1.5  ...  Freezing Drizzle,Fog\n",
              "2012-01-01 04:00:00      -1.5  ...                   Fog\n",
              "\n",
              "[5 rows x 7 columns]"
            ]
          },
          "metadata": {
            "tags": []
          },
          "execution_count": 21
        }
      ]
    },
    {
      "cell_type": "markdown",
      "metadata": {
        "id": "WrUbLq5rNnoF",
        "colab_type": "text"
      },
      "source": [
        "#How Temperature varied against Months "
      ]
    },
    {
      "cell_type": "markdown",
      "metadata": {
        "id": "9AyWXwybNs6E",
        "colab_type": "text"
      },
      "source": [
        "Grouping the data by month with a mean aggregate function"
      ]
    },
    {
      "cell_type": "code",
      "metadata": {
        "id": "1GaAgVtVLuDk",
        "colab_type": "code",
        "colab": {
          "base_uri": "https://localhost:8080/",
          "height": 444
        },
        "outputId": "64b0b87a-f6ed-4de4-d5d2-862241ff6ad7"
      },
      "source": [
        "monthly_data = weather_df.groupby(weather_df.index.month).mean()\n",
        "monthly_data"
      ],
      "execution_count": 34,
      "outputs": [
        {
          "output_type": "execute_result",
          "data": {
            "text/html": [
              "<div>\n",
              "<style scoped>\n",
              "    .dataframe tbody tr th:only-of-type {\n",
              "        vertical-align: middle;\n",
              "    }\n",
              "\n",
              "    .dataframe tbody tr th {\n",
              "        vertical-align: top;\n",
              "    }\n",
              "\n",
              "    .dataframe thead th {\n",
              "        text-align: right;\n",
              "    }\n",
              "</style>\n",
              "<table border=\"1\" class=\"dataframe\">\n",
              "  <thead>\n",
              "    <tr style=\"text-align: right;\">\n",
              "      <th></th>\n",
              "      <th>Temp (C)</th>\n",
              "      <th>Dew Point Temp (C)</th>\n",
              "      <th>Rel Hum (%)</th>\n",
              "      <th>Wind Spd (km/h)</th>\n",
              "      <th>Visibility (km)</th>\n",
              "      <th>Stn Press (kPa)</th>\n",
              "    </tr>\n",
              "    <tr>\n",
              "      <th>Date/Time</th>\n",
              "      <th></th>\n",
              "      <th></th>\n",
              "      <th></th>\n",
              "      <th></th>\n",
              "      <th></th>\n",
              "      <th></th>\n",
              "    </tr>\n",
              "  </thead>\n",
              "  <tbody>\n",
              "    <tr>\n",
              "      <th>1</th>\n",
              "      <td>-7.371505</td>\n",
              "      <td>-12.294758</td>\n",
              "      <td>68.383065</td>\n",
              "      <td>18.108871</td>\n",
              "      <td>22.100269</td>\n",
              "      <td>101.005349</td>\n",
              "    </tr>\n",
              "    <tr>\n",
              "      <th>2</th>\n",
              "      <td>-4.225000</td>\n",
              "      <td>-9.221695</td>\n",
              "      <td>68.956897</td>\n",
              "      <td>14.837644</td>\n",
              "      <td>25.182184</td>\n",
              "      <td>101.142414</td>\n",
              "    </tr>\n",
              "    <tr>\n",
              "      <th>3</th>\n",
              "      <td>3.121237</td>\n",
              "      <td>-3.488575</td>\n",
              "      <td>64.862903</td>\n",
              "      <td>14.514785</td>\n",
              "      <td>26.177957</td>\n",
              "      <td>101.335255</td>\n",
              "    </tr>\n",
              "    <tr>\n",
              "      <th>4</th>\n",
              "      <td>7.009306</td>\n",
              "      <td>-1.934583</td>\n",
              "      <td>56.150000</td>\n",
              "      <td>17.369444</td>\n",
              "      <td>31.777083</td>\n",
              "      <td>100.716833</td>\n",
              "    </tr>\n",
              "    <tr>\n",
              "      <th>5</th>\n",
              "      <td>16.237769</td>\n",
              "      <td>8.080780</td>\n",
              "      <td>61.760753</td>\n",
              "      <td>12.846774</td>\n",
              "      <td>29.418548</td>\n",
              "      <td>101.057164</td>\n",
              "    </tr>\n",
              "    <tr>\n",
              "      <th>6</th>\n",
              "      <td>20.134028</td>\n",
              "      <td>11.738056</td>\n",
              "      <td>60.643056</td>\n",
              "      <td>14.681944</td>\n",
              "      <td>32.104167</td>\n",
              "      <td>100.784222</td>\n",
              "    </tr>\n",
              "    <tr>\n",
              "      <th>7</th>\n",
              "      <td>22.790054</td>\n",
              "      <td>14.595430</td>\n",
              "      <td>62.017473</td>\n",
              "      <td>11.887097</td>\n",
              "      <td>33.655108</td>\n",
              "      <td>100.828333</td>\n",
              "    </tr>\n",
              "    <tr>\n",
              "      <th>8</th>\n",
              "      <td>22.279301</td>\n",
              "      <td>15.644758</td>\n",
              "      <td>67.943548</td>\n",
              "      <td>13.931452</td>\n",
              "      <td>30.192608</td>\n",
              "      <td>100.927097</td>\n",
              "    </tr>\n",
              "    <tr>\n",
              "      <th>9</th>\n",
              "      <td>16.484444</td>\n",
              "      <td>10.757917</td>\n",
              "      <td>71.165278</td>\n",
              "      <td>14.108333</td>\n",
              "      <td>30.603472</td>\n",
              "      <td>101.087903</td>\n",
              "    </tr>\n",
              "    <tr>\n",
              "      <th>10</th>\n",
              "      <td>10.954973</td>\n",
              "      <td>6.533468</td>\n",
              "      <td>75.731183</td>\n",
              "      <td>15.475806</td>\n",
              "      <td>25.111022</td>\n",
              "      <td>100.909368</td>\n",
              "    </tr>\n",
              "    <tr>\n",
              "      <th>11</th>\n",
              "      <td>0.931389</td>\n",
              "      <td>-4.179306</td>\n",
              "      <td>69.984722</td>\n",
              "      <td>13.973611</td>\n",
              "      <td>26.077083</td>\n",
              "      <td>101.658306</td>\n",
              "    </tr>\n",
              "    <tr>\n",
              "      <th>12</th>\n",
              "      <td>-3.306317</td>\n",
              "      <td>-6.129032</td>\n",
              "      <td>81.299731</td>\n",
              "      <td>17.614247</td>\n",
              "      <td>19.733199</td>\n",
              "      <td>101.174409</td>\n",
              "    </tr>\n",
              "  </tbody>\n",
              "</table>\n",
              "</div>"
            ],
            "text/plain": [
              "            Temp (C)  Dew Point Temp (C)  ...  Visibility (km)  Stn Press (kPa)\n",
              "Date/Time                                 ...                                  \n",
              "1          -7.371505          -12.294758  ...        22.100269       101.005349\n",
              "2          -4.225000           -9.221695  ...        25.182184       101.142414\n",
              "3           3.121237           -3.488575  ...        26.177957       101.335255\n",
              "4           7.009306           -1.934583  ...        31.777083       100.716833\n",
              "5          16.237769            8.080780  ...        29.418548       101.057164\n",
              "6          20.134028           11.738056  ...        32.104167       100.784222\n",
              "7          22.790054           14.595430  ...        33.655108       100.828333\n",
              "8          22.279301           15.644758  ...        30.192608       100.927097\n",
              "9          16.484444           10.757917  ...        30.603472       101.087903\n",
              "10         10.954973            6.533468  ...        25.111022       100.909368\n",
              "11          0.931389           -4.179306  ...        26.077083       101.658306\n",
              "12         -3.306317           -6.129032  ...        19.733199       101.174409\n",
              "\n",
              "[12 rows x 6 columns]"
            ]
          },
          "metadata": {
            "tags": []
          },
          "execution_count": 34
        }
      ]
    },
    {
      "cell_type": "code",
      "metadata": {
        "id": "uWYT7GrbNJfb",
        "colab_type": "code",
        "colab": {}
      },
      "source": [
        "x_values = monthly_data.index\n",
        "y_values = monthly_data['Temp (C)']"
      ],
      "execution_count": 41,
      "outputs": []
    },
    {
      "cell_type": "markdown",
      "metadata": {
        "id": "QaUmYnJcPtwO",
        "colab_type": "text"
      },
      "source": [
        "Plotting Temperature against Months"
      ]
    },
    {
      "cell_type": "code",
      "metadata": {
        "id": "bBseO0sXOalQ",
        "colab_type": "code",
        "colab": {
          "base_uri": "https://localhost:8080/",
          "height": 295
        },
        "outputId": "ce99a6f5-29fb-475d-dad2-069b3c92d2de"
      },
      "source": [
        "plt.plot(x_values,y_values)\n",
        "plt.title('Temperature Trend')\n",
        "plt.xlabel('Months')\n",
        "plt.ylabel('Temperature in Celsius')\n",
        "plt.show()"
      ],
      "execution_count": 38,
      "outputs": [
        {
          "output_type": "display_data",
          "data": {
            "image/png": "[encoded data removed]",
            "text/plain": [
              "<Figure size 432x288 with 1 Axes>"
            ]
          },
          "metadata": {
            "tags": [],
            "needs_background": "light"
          }
        }
      ]
    },
    {
      "cell_type": "markdown",
      "metadata": {
        "id": "zPEkZDNSP3Hm",
        "colab_type": "text"
      },
      "source": [
        "#Mini Challenge \n",
        "Generate the same plot as above and change the Months labels from \"1\",\"2\" to \"January\", \"February\" etc"
      ]
    },
    {
      "cell_type": "code",
      "metadata": {
        "id": "xAia47fZPjTL",
        "colab_type": "code",
        "colab": {
          "base_uri": "https://localhost:8080/",
          "height": 216
        },
        "outputId": "f686b212-0dc2-4206-fed7-4a870a3c31ca"
      },
      "source": [
        "import calendar\n",
        "\n",
        "months = calendar.month_name[1:]\n",
        "months"
      ],
      "execution_count": 40,
      "outputs": [
        {
          "output_type": "execute_result",
          "data": {
            "text/plain": [
              "['January',\n",
              " 'February',\n",
              " 'March',\n",
              " 'April',\n",
              " 'May',\n",
              " 'June',\n",
              " 'July',\n",
              " 'August',\n",
              " 'September',\n",
              " 'October',\n",
              " 'November',\n",
              " 'December']"
            ]
          },
          "metadata": {
            "tags": []
          },
          "execution_count": 40
        }
      ]
    },
    {
      "cell_type": "code",
      "metadata": {
        "id": "KOlYWurIQmIU",
        "colab_type": "code",
        "colab": {}
      },
      "source": [
        "x_values = months\n",
        "y_values = monthly_data['Temp (C)']"
      ],
      "execution_count": 42,
      "outputs": []
    },
    {
      "cell_type": "code",
      "metadata": {
        "id": "SLKi4NvJQcMz",
        "colab_type": "code",
        "colab": {
          "base_uri": "https://localhost:8080/",
          "height": 295
        },
        "outputId": "8958ddf6-4d90-42b7-e8a8-9c99f5604fe4"
      },
      "source": [
        "plt.plot(x_values,y_values)\n",
        "plt.title('Temperature Trend')\n",
        "plt.xlabel('Months')\n",
        "plt.ylabel('Temperature in Celsius')\n",
        "plt.show()"
      ],
      "execution_count": 43,
      "outputs": [
        {
          "output_type": "display_data",
          "data": {
            "image/png": "[encoded data removed]",
            "text/plain": [
              "<Figure size 432x288 with 1 Axes>"
            ]
          },
          "metadata": {
            "tags": [],
            "needs_background": "light"
          }
        }
      ]
    },
    {
      "cell_type": "markdown",
      "metadata": {
        "id": "i3tPfWuYQ1FK",
        "colab_type": "text"
      },
      "source": [
        "Make the x-axis labels more legible "
      ]
    },
    {
      "cell_type": "code",
      "metadata": {
        "id": "ceX_4pt4RSk9",
        "colab_type": "code",
        "colab": {}
      },
      "source": [
        "x_values = months\n",
        "y_values = monthly_data['Temp (C)']"
      ],
      "execution_count": 44,
      "outputs": []
    },
    {
      "cell_type": "code",
      "metadata": {
        "id": "-9NoYr2cQ441",
        "colab_type": "code",
        "colab": {
          "base_uri": "https://localhost:8080/",
          "height": 340
        },
        "outputId": "f5a0fc85-ed2a-4773-f201-9588de8cd5b7"
      },
      "source": [
        "plt.plot(x_values,y_values)\n",
        "plt.title('Temperature Trend')\n",
        "plt.xlabel('Months')\n",
        "plt.ylabel('Temperature in Celsius')\n",
        "plt.xticks(rotation=90) ***\n",
        "plt.show()"
      ],
      "execution_count": 47,
      "outputs": [
        {
          "output_type": "display_data",
          "data": {
            "image/png": "[encoded data removed]",
            "text/plain": [
              "<Figure size 432x288 with 1 Axes>"
            ]
          },
          "metadata": {
            "tags": [],
            "needs_background": "light"
          }
        }
      ]
    },
    {
      "cell_type": "markdown",
      "metadata": {
        "id": "qP8LjQz_6_jm",
        "colab_type": "text"
      },
      "source": [
        "#Barplots "
      ]
    },
    {
      "cell_type": "code",
      "metadata": {
        "id": "704C5PJw7Brx",
        "colab_type": "code",
        "colab": {}
      },
      "source": [
        "def bar_plot():\n",
        "  weekly_data = weather_df.groupby(weather_df.index.dayofweek).mean()\n",
        "  plt.bar(weekly_data.index, weekly_data['Visibility (km)'])\n",
        "  plt.title(\"Visibility by week, 2012\")\n",
        "  plt.xlabel(\"Day of Week\")\n",
        "  plt.ylabel(\"Visibility (km)\")\n",
        "  plt.xticks(weekly_data.index, calendar.day_abbr, rotation = 45)\n",
        "  plt.show"
      ],
      "execution_count": 55,
      "outputs": []
    },
    {
      "cell_type": "code",
      "metadata": {
        "id": "yj1N8mNq73Qv",
        "colab_type": "code",
        "colab": {
          "base_uri": "https://localhost:8080/",
          "height": 308
        },
        "outputId": "c41df5a4-f55f-4f58-e4ec-080a27d7e28c"
      },
      "source": [
        "bar_plot()"
      ],
      "execution_count": 56,
      "outputs": [
        {
          "output_type": "display_data",
          "data": {
            "image/png": "[encoded data removed]",
            "text/plain": [
              "<Figure size 432x288 with 1 Axes>"
            ]
          },
          "metadata": {
            "tags": [],
            "needs_background": "light"
          }
        }
      ]
    },
    {
      "cell_type": "markdown",
      "metadata": {
        "id": "Snb0QmnTASC3",
        "colab_type": "text"
      },
      "source": [
        "#Histogram"
      ]
    },
    {
      "cell_type": "code",
      "metadata": {
        "id": "YFfdGyHx8tME",
        "colab_type": "code",
        "colab": {
          "base_uri": "https://localhost:8080/",
          "height": 265
        },
        "outputId": "fe921748-65c7-4015-e5de-a267e96f6eed"
      },
      "source": [
        "#sample histogram\n",
        "\n",
        "x = np.arange(0, 10, 0.1)\n",
        "y1 = (((x - 3) ** 3 ) - 100) + np.random.randint(-20, 20, size=len(x))\n",
        "\n",
        "plt.hist(y1)\n",
        "plt.show()"
      ],
      "execution_count": 57,
      "outputs": [
        {
          "output_type": "display_data",
          "data": {
            "image/png": "[encoded data removed]",
            "text/plain": [
              "<Figure size 432x288 with 1 Axes>"
            ]
          },
          "metadata": {
            "tags": [],
            "needs_background": "light"
          }
        }
      ]
    },
    {
      "cell_type": "code",
      "metadata": {
        "id": "yHE9cxP9-0u9",
        "colab_type": "code",
        "colab": {}
      },
      "source": [
        "\n",
        "def hist_plot():\n",
        "  plt.hist(weather_df['Wind Spd (km/h)'])\n",
        "  plt.xlabel('Wind Speed (km/h')\n",
        "  plt.ylabel('Frequency');\n",
        "\n",
        "  plt.show()"
      ],
      "execution_count": 62,
      "outputs": []
    },
    {
      "cell_type": "code",
      "metadata": {
        "id": "CgC00DRg_M2y",
        "colab_type": "code",
        "colab": {
          "base_uri": "https://localhost:8080/",
          "height": 279
        },
        "outputId": "25bf780f-ff8e-47a9-b191-75f97a04165c"
      },
      "source": [
        "hist_plot()"
      ],
      "execution_count": 63,
      "outputs": [
        {
          "output_type": "display_data",
          "data": {
            "image/png": "[encoded data removed]",
            "text/plain": [
              "<Figure size 432x288 with 1 Axes>"
            ]
          },
          "metadata": {
            "tags": [],
            "needs_background": "light"
          }
        }
      ]
    },
    {
      "cell_type": "markdown",
      "metadata": {
        "id": "C6m9quxYAWK4",
        "colab_type": "text"
      },
      "source": [
        "#Box Plots "
      ]
    },
    {
      "cell_type": "code",
      "metadata": {
        "id": "_SHZwlh5_O-z",
        "colab_type": "code",
        "colab": {
          "base_uri": "https://localhost:8080/",
          "height": 265
        },
        "outputId": "f6f3e2b6-57bf-44b3-bf53-1eeb8395f2bf"
      },
      "source": [
        "# Sample boxplot \n",
        "\n",
        "x= np.arange(0, 10, 0.1)\n",
        "y = np.exp(x)\n",
        "\n",
        "plt.boxplot(y)\n",
        "plt.show()"
      ],
      "execution_count": 64,
      "outputs": [
        {
          "output_type": "display_data",
          "data": {
            "image/png": "[encoded data removed]",
            "text/plain": [
              "<Figure size 432x288 with 1 Axes>"
            ]
          },
          "metadata": {
            "tags": [],
            "needs_background": "light"
          }
        }
      ]
    },
    {
      "cell_type": "code",
      "metadata": {
        "id": "sZ5jukw4AxaZ",
        "colab_type": "code",
        "colab": {}
      },
      "source": [
        "def box_plot():\n",
        "  plt.boxplot('Wind Spd (km/h')\n",
        "  plt.show();"
      ],
      "execution_count": null,
      "outputs": []
    }
  ]
}