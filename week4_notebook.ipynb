{
  "nbformat": 4,
  "nbformat_minor": 0,
  "metadata": {
    "colab": {
      "name": "week4-notebook.ipynb",
      "provenance": [],
      "collapsed_sections": [],
      "toc_visible": true,
      "authorship_tag": "ABX9TyOx9KR7kXt9KvMB0LR/Itfy",
      "include_colab_link": true
    },
    "kernelspec": {
      "name": "python3",
      "display_name": "Python 3"
    }
  },
  "cells": [
    {
      "cell_type": "markdown",
      "metadata": {
        "id": "view-in-github",
        "colab_type": "text"
      },
      "source": [
        "<a href=\"https://colab.research.google.com/github/cedricbansah/data-science-practice/blob/master/week4_notebook.ipynb\" target=\"_parent\"><img src=\"https://colab.research.google.com/assets/colab-badge.svg\" alt=\"Open In Colab\"/></a>"
      ]
    },
    {
      "cell_type": "markdown",
      "metadata": {
        "id": "brM7SFOsMGq6",
        "colab_type": "text"
      },
      "source": [
        "#Analyzing Data"
      ]
    },
    {
      "cell_type": "code",
      "metadata": {
        "id": "NBq4jXjSA2tr",
        "colab_type": "code",
        "colab": {
          "base_uri": "https://localhost:8080/",
          "height": 50
        },
        "outputId": "ef64a74f-67fd-43ec-dba1-400315111134"
      },
      "source": [
        "import pandas as pd\n",
        "\n",
        "weather_df = pd.read_csv('/content/Notita/weather_2012.csv')\n",
        "print('Shape: ', weather_df.shape)\n",
        "print('Index: ', weather_df.index)"
      ],
      "execution_count": null,
      "outputs": [
        {
          "output_type": "stream",
          "text": [
            "Shape:  (8784, 8)\n",
            "Index:  RangeIndex(start=0, stop=8784, step=1)\n"
          ],
          "name": "stdout"
        }
      ]
    },
    {
      "cell_type": "code",
      "metadata": {
        "id": "r-u1oeKVBfOC",
        "colab_type": "code",
        "colab": {
          "base_uri": "https://localhost:8080/",
          "height": 116
        },
        "outputId": "f637cca0-9ff8-47cf-9d21-b6c049971b1c"
      },
      "source": [
        "weather_df['Date/Time'].head()"
      ],
      "execution_count": null,
      "outputs": [
        {
          "output_type": "execute_result",
          "data": {
            "text/plain": [
              "0    2012-01-01 00:00:00\n",
              "1    2012-01-01 01:00:00\n",
              "2    2012-01-01 02:00:00\n",
              "3    2012-01-01 03:00:00\n",
              "4    2012-01-01 04:00:00\n",
              "Name: Date/Time, dtype: object"
            ]
          },
          "metadata": {
            "tags": []
          },
          "execution_count": 2
        }
      ]
    },
    {
      "cell_type": "code",
      "metadata": {
        "id": "0WRzvFfcBmzT",
        "colab_type": "code",
        "colab": {
          "base_uri": "https://localhost:8080/",
          "height": 116
        },
        "outputId": "b865f0bd-90bf-4f8c-e1d6-24cc5ebfdb97"
      },
      "source": [
        "weather_df['Date/Time'] = pd.to_datetime(weather_df['Date/Time'])\n",
        "weather_df['Date/Time'].head()"
      ],
      "execution_count": null,
      "outputs": [
        {
          "output_type": "execute_result",
          "data": {
            "text/plain": [
              "0   2012-01-01 00:00:00\n",
              "1   2012-01-01 01:00:00\n",
              "2   2012-01-01 02:00:00\n",
              "3   2012-01-01 03:00:00\n",
              "4   2012-01-01 04:00:00\n",
              "Name: Date/Time, dtype: datetime64[ns]"
            ]
          },
          "metadata": {
            "tags": []
          },
          "execution_count": 106
        }
      ]
    },
    {
      "cell_type": "code",
      "metadata": {
        "id": "D0YyElupB9mp",
        "colab_type": "code",
        "colab": {
          "base_uri": "https://localhost:8080/",
          "height": 265
        },
        "outputId": "fb59fabd-46f3-46ab-8f12-602e4d82f9be"
      },
      "source": [
        "weather_df.info()"
      ],
      "execution_count": null,
      "outputs": [
        {
          "output_type": "stream",
          "text": [
            "<class 'pandas.core.frame.DataFrame'>\n",
            "RangeIndex: 8784 entries, 0 to 8783\n",
            "Data columns (total 8 columns):\n",
            " #   Column              Non-Null Count  Dtype         \n",
            "---  ------              --------------  -----         \n",
            " 0   Date/Time           8784 non-null   datetime64[ns]\n",
            " 1   Temp (C)            8784 non-null   float64       \n",
            " 2   Dew Point Temp (C)  8784 non-null   float64       \n",
            " 3   Rel Hum (%)         8784 non-null   int64         \n",
            " 4   Wind Spd (km/h)     8784 non-null   int64         \n",
            " 5   Visibility (km)     8784 non-null   float64       \n",
            " 6   Stn Press (kPa)     8784 non-null   float64       \n",
            " 7   Weather             8784 non-null   object        \n",
            "dtypes: datetime64[ns](1), float64(4), int64(2), object(1)\n",
            "memory usage: 549.1+ KB\n"
          ],
          "name": "stdout"
        }
      ]
    },
    {
      "cell_type": "code",
      "metadata": {
        "id": "T8exaI5aCf5y",
        "colab_type": "code",
        "colab": {
          "base_uri": "https://localhost:8080/",
          "height": 231
        },
        "outputId": "56d931b2-970f-4d00-e231-5bbc77af55ab"
      },
      "source": [
        "weather_df.head(6)"
      ],
      "execution_count": null,
      "outputs": [
        {
          "output_type": "execute_result",
          "data": {
            "text/html": [
              "<div>\n",
              "<style scoped>\n",
              "    .dataframe tbody tr th:only-of-type {\n",
              "        vertical-align: middle;\n",
              "    }\n",
              "\n",
              "    .dataframe tbody tr th {\n",
              "        vertical-align: top;\n",
              "    }\n",
              "\n",
              "    .dataframe thead th {\n",
              "        text-align: right;\n",
              "    }\n",
              "</style>\n",
              "<table border=\"1\" class=\"dataframe\">\n",
              "  <thead>\n",
              "    <tr style=\"text-align: right;\">\n",
              "      <th></th>\n",
              "      <th>Date/Time</th>\n",
              "      <th>Temp (C)</th>\n",
              "      <th>Dew Point Temp (C)</th>\n",
              "      <th>Rel Hum (%)</th>\n",
              "      <th>Wind Spd (km/h)</th>\n",
              "      <th>Visibility (km)</th>\n",
              "      <th>Stn Press (kPa)</th>\n",
              "      <th>Weather</th>\n",
              "    </tr>\n",
              "  </thead>\n",
              "  <tbody>\n",
              "    <tr>\n",
              "      <th>0</th>\n",
              "      <td>2012-01-01 00:00:00</td>\n",
              "      <td>-1.8</td>\n",
              "      <td>-3.9</td>\n",
              "      <td>86</td>\n",
              "      <td>4</td>\n",
              "      <td>8.0</td>\n",
              "      <td>101.24</td>\n",
              "      <td>Fog</td>\n",
              "    </tr>\n",
              "    <tr>\n",
              "      <th>1</th>\n",
              "      <td>2012-01-01 01:00:00</td>\n",
              "      <td>-1.8</td>\n",
              "      <td>-3.7</td>\n",
              "      <td>87</td>\n",
              "      <td>4</td>\n",
              "      <td>8.0</td>\n",
              "      <td>101.24</td>\n",
              "      <td>Fog</td>\n",
              "    </tr>\n",
              "    <tr>\n",
              "      <th>2</th>\n",
              "      <td>2012-01-01 02:00:00</td>\n",
              "      <td>-1.8</td>\n",
              "      <td>-3.4</td>\n",
              "      <td>89</td>\n",
              "      <td>7</td>\n",
              "      <td>4.0</td>\n",
              "      <td>101.26</td>\n",
              "      <td>Freezing Drizzle,Fog</td>\n",
              "    </tr>\n",
              "    <tr>\n",
              "      <th>3</th>\n",
              "      <td>2012-01-01 03:00:00</td>\n",
              "      <td>-1.5</td>\n",
              "      <td>-3.2</td>\n",
              "      <td>88</td>\n",
              "      <td>6</td>\n",
              "      <td>4.0</td>\n",
              "      <td>101.27</td>\n",
              "      <td>Freezing Drizzle,Fog</td>\n",
              "    </tr>\n",
              "    <tr>\n",
              "      <th>4</th>\n",
              "      <td>2012-01-01 04:00:00</td>\n",
              "      <td>-1.5</td>\n",
              "      <td>-3.3</td>\n",
              "      <td>88</td>\n",
              "      <td>7</td>\n",
              "      <td>4.8</td>\n",
              "      <td>101.23</td>\n",
              "      <td>Fog</td>\n",
              "    </tr>\n",
              "    <tr>\n",
              "      <th>5</th>\n",
              "      <td>2012-01-01 05:00:00</td>\n",
              "      <td>-1.4</td>\n",
              "      <td>-3.3</td>\n",
              "      <td>87</td>\n",
              "      <td>9</td>\n",
              "      <td>6.4</td>\n",
              "      <td>101.27</td>\n",
              "      <td>Fog</td>\n",
              "    </tr>\n",
              "  </tbody>\n",
              "</table>\n",
              "</div>"
            ],
            "text/plain": [
              "            Date/Time  Temp (C)  ...  Stn Press (kPa)               Weather\n",
              "0 2012-01-01 00:00:00      -1.8  ...           101.24                   Fog\n",
              "1 2012-01-01 01:00:00      -1.8  ...           101.24                   Fog\n",
              "2 2012-01-01 02:00:00      -1.8  ...           101.26  Freezing Drizzle,Fog\n",
              "3 2012-01-01 03:00:00      -1.5  ...           101.27  Freezing Drizzle,Fog\n",
              "4 2012-01-01 04:00:00      -1.5  ...           101.23                   Fog\n",
              "5 2012-01-01 05:00:00      -1.4  ...           101.27                   Fog\n",
              "\n",
              "[6 rows x 8 columns]"
            ]
          },
          "metadata": {
            "tags": []
          },
          "execution_count": 9
        }
      ]
    },
    {
      "cell_type": "code",
      "metadata": {
        "id": "yLq_JtR4CrXg",
        "colab_type": "code",
        "colab": {
          "base_uri": "https://localhost:8080/",
          "height": 298
        },
        "outputId": "4c22e708-1308-4681-bd89-872de612e2d2"
      },
      "source": [
        "weather_df['Weather'].unique()"
      ],
      "execution_count": null,
      "outputs": [
        {
          "output_type": "execute_result",
          "data": {
            "text/plain": [
              "array(['Fog', 'Freezing Drizzle,Fog', 'Mostly Cloudy', 'Cloudy', 'Rain',\n",
              "       'Rain Showers', 'Mainly Clear', 'Snow Showers', 'Snow', 'Clear',\n",
              "       'Freezing Rain,Fog', 'Freezing Rain', 'Freezing Drizzle',\n",
              "       'Rain,Snow', 'Moderate Snow', 'Freezing Drizzle,Snow',\n",
              "       'Freezing Rain,Snow Grains', 'Snow,Blowing Snow', 'Freezing Fog',\n",
              "       'Haze', 'Rain,Fog', 'Drizzle,Fog', 'Drizzle',\n",
              "       'Freezing Drizzle,Haze', 'Freezing Rain,Haze', 'Snow,Haze',\n",
              "       'Snow,Fog', 'Snow,Ice Pellets', 'Rain,Haze', 'Thunderstorms,Rain',\n",
              "       'Thunderstorms,Rain Showers', 'Thunderstorms,Heavy Rain Showers',\n",
              "       'Thunderstorms,Rain Showers,Fog', 'Thunderstorms',\n",
              "       'Thunderstorms,Rain,Fog',\n",
              "       'Thunderstorms,Moderate Rain Showers,Fog', 'Rain Showers,Fog',\n",
              "       'Rain Showers,Snow Showers', 'Snow Pellets', 'Rain,Snow,Fog',\n",
              "       'Moderate Rain,Fog', 'Freezing Rain,Ice Pellets,Fog',\n",
              "       'Drizzle,Ice Pellets,Fog', 'Drizzle,Snow', 'Rain,Ice Pellets',\n",
              "       'Drizzle,Snow,Fog', 'Rain,Snow Grains', 'Rain,Snow,Ice Pellets',\n",
              "       'Snow Showers,Fog', 'Moderate Snow,Blowing Snow'], dtype=object)"
            ]
          },
          "metadata": {
            "tags": []
          },
          "execution_count": 12
        }
      ]
    },
    {
      "cell_type": "code",
      "metadata": {
        "id": "rf2_5afvDXzp",
        "colab_type": "code",
        "colab": {
          "base_uri": "https://localhost:8080/",
          "height": 133
        },
        "outputId": "0af1aa94-bc26-4a8a-83f3-5c530c3c2b1c"
      },
      "source": [
        "weather_df['Rel Hum (%)'].unique()"
      ],
      "execution_count": null,
      "outputs": [
        {
          "output_type": "execute_result",
          "data": {
            "text/plain": [
              "array([ 86,  87,  89,  88,  85,  91,  82,  81,  84,  79,  77,  72,  71,\n",
              "        69,  70,  68,  67,  66,  56,  57,  59,  55,  54,  58,  65,  53,\n",
              "        60,  61,  63,  52,  50,  49,  62,  51,  75,  73,  80,  83,  76,\n",
              "        64,  74,  78,  47,  90,  48,  45,  46,  92,  93,  42,  43,  40,\n",
              "        39,  44,  94,  37,  41,  38,  96,  98,  99,  97,  95, 100,  29,\n",
              "        28,  27,  19,  20,  18,  25,  26,  30,  24,  34,  33,  31,  32,\n",
              "        35,  36,  21,  22,  23])"
            ]
          },
          "metadata": {
            "tags": []
          },
          "execution_count": 20
        }
      ]
    },
    {
      "cell_type": "code",
      "metadata": {
        "id": "YWSRSnS8ELZA",
        "colab_type": "code",
        "colab": {
          "base_uri": "https://localhost:8080/",
          "height": 166
        },
        "outputId": "37f48e2a-488b-4dbd-92ba-98d691925d83"
      },
      "source": [
        "weather_df['Rel Hum (%)'].describe()"
      ],
      "execution_count": null,
      "outputs": [
        {
          "output_type": "execute_result",
          "data": {
            "text/plain": [
              "count    8784.000000\n",
              "mean       67.431694\n",
              "std        16.918881\n",
              "min        18.000000\n",
              "25%        56.000000\n",
              "50%        68.000000\n",
              "75%        81.000000\n",
              "max       100.000000\n",
              "Name: Rel Hum (%), dtype: float64"
            ]
          },
          "metadata": {
            "tags": []
          },
          "execution_count": 21
        }
      ]
    },
    {
      "cell_type": "code",
      "metadata": {
        "id": "DrdI5Y4FD0Q6",
        "colab_type": "code",
        "colab": {
          "base_uri": "https://localhost:8080/",
          "height": 50
        },
        "outputId": "609f179f-072c-4ccd-bc68-f6cc58658b96"
      },
      "source": [
        "weather_df['Wind Spd (km/h)'].unique()"
      ],
      "execution_count": null,
      "outputs": [
        {
          "output_type": "execute_result",
          "data": {
            "text/plain": [
              "array([ 4,  7,  6,  9, 15, 13, 20, 22, 19, 24, 30, 35, 39, 32, 33, 26, 44,\n",
              "       43, 48, 37, 28, 17, 11,  0, 83, 70, 57, 46, 41, 52, 50, 63, 54,  2])"
            ]
          },
          "metadata": {
            "tags": []
          },
          "execution_count": 18
        }
      ]
    },
    {
      "cell_type": "code",
      "metadata": {
        "id": "750ZR6N-EF-5",
        "colab_type": "code",
        "colab": {
          "base_uri": "https://localhost:8080/",
          "height": 166
        },
        "outputId": "d8780e94-5ef4-4e8a-fbbc-de2032ef7085"
      },
      "source": [
        "weather_df['Wind Spd (km/h)'].describe()"
      ],
      "execution_count": null,
      "outputs": [
        {
          "output_type": "execute_result",
          "data": {
            "text/plain": [
              "count    8784.000000\n",
              "mean       14.945469\n",
              "std         8.688696\n",
              "min         0.000000\n",
              "25%         9.000000\n",
              "50%        13.000000\n",
              "75%        20.000000\n",
              "max        83.000000\n",
              "Name: Wind Spd (km/h), dtype: float64"
            ]
          },
          "metadata": {
            "tags": []
          },
          "execution_count": 19
        }
      ]
    },
    {
      "cell_type": "code",
      "metadata": {
        "id": "z7WG7jX0EYBj",
        "colab_type": "code",
        "colab": {
          "base_uri": "https://localhost:8080/",
          "height": 34
        },
        "outputId": "e7da775a-29d6-42e1-ce3f-51bdd245bcbb"
      },
      "source": [
        "weather_df['Stn Press (kPa)'].nunique()"
      ],
      "execution_count": null,
      "outputs": [
        {
          "output_type": "execute_result",
          "data": {
            "text/plain": [
              "518"
            ]
          },
          "metadata": {
            "tags": []
          },
          "execution_count": 22
        }
      ]
    },
    {
      "cell_type": "code",
      "metadata": {
        "id": "S3d64Ec-Eewh",
        "colab_type": "code",
        "colab": {
          "base_uri": "https://localhost:8080/",
          "height": 34
        },
        "outputId": "43935006-0118-4673-9770-a51bde5a3753"
      },
      "source": [
        "weather_df['Wind Spd (km/h)'].nunique()"
      ],
      "execution_count": null,
      "outputs": [
        {
          "output_type": "execute_result",
          "data": {
            "text/plain": [
              "34"
            ]
          },
          "metadata": {
            "tags": []
          },
          "execution_count": 23
        }
      ]
    },
    {
      "cell_type": "code",
      "metadata": {
        "id": "FKarvERtEstk",
        "colab_type": "code",
        "colab": {
          "base_uri": "https://localhost:8080/",
          "height": 860
        },
        "outputId": "e54d2ca0-7e55-49ff-bf44-2a18280d028b"
      },
      "source": [
        "weather_df['Weather'].value_counts()"
      ],
      "execution_count": null,
      "outputs": [
        {
          "output_type": "execute_result",
          "data": {
            "text/plain": [
              "Mainly Clear                               2106\n",
              "Mostly Cloudy                              2069\n",
              "Cloudy                                     1728\n",
              "Clear                                      1326\n",
              "Snow                                        390\n",
              "Rain                                        306\n",
              "Rain Showers                                188\n",
              "Fog                                         150\n",
              "Rain,Fog                                    116\n",
              "Drizzle,Fog                                  80\n",
              "Snow Showers                                 60\n",
              "Drizzle                                      41\n",
              "Snow,Fog                                     37\n",
              "Snow,Blowing Snow                            19\n",
              "Rain,Snow                                    18\n",
              "Haze                                         16\n",
              "Thunderstorms,Rain Showers                   16\n",
              "Drizzle,Snow,Fog                             15\n",
              "Freezing Rain                                14\n",
              "Freezing Drizzle,Snow                        11\n",
              "Freezing Drizzle                              7\n",
              "Freezing Drizzle,Fog                          6\n",
              "Snow,Ice Pellets                              6\n",
              "Snow,Haze                                     5\n",
              "Freezing Rain,Fog                             4\n",
              "Freezing Fog                                  4\n",
              "Rain,Snow,Ice Pellets                         4\n",
              "Snow Showers,Fog                              4\n",
              "Moderate Snow                                 4\n",
              "Freezing Drizzle,Haze                         3\n",
              "Thunderstorms,Rain                            3\n",
              "Rain,Haze                                     3\n",
              "Thunderstorms,Rain Showers,Fog                3\n",
              "Freezing Rain,Haze                            2\n",
              "Moderate Snow,Blowing Snow                    2\n",
              "Drizzle,Snow                                  2\n",
              "Rain Showers,Snow Showers                     2\n",
              "Thunderstorms                                 2\n",
              "Rain,Snow,Fog                                 1\n",
              "Rain,Snow Grains                              1\n",
              "Rain,Ice Pellets                              1\n",
              "Snow Pellets                                  1\n",
              "Freezing Rain,Ice Pellets,Fog                 1\n",
              "Drizzle,Ice Pellets,Fog                       1\n",
              "Moderate Rain,Fog                             1\n",
              "Freezing Rain,Snow Grains                     1\n",
              "Thunderstorms,Rain,Fog                        1\n",
              "Rain Showers,Fog                              1\n",
              "Thunderstorms,Moderate Rain Showers,Fog       1\n",
              "Thunderstorms,Heavy Rain Showers              1\n",
              "Name: Weather, dtype: int64"
            ]
          },
          "metadata": {
            "tags": []
          },
          "execution_count": 24
        }
      ]
    },
    {
      "cell_type": "code",
      "metadata": {
        "id": "pvtwvDqjFIYj",
        "colab_type": "code",
        "colab": {
          "base_uri": "https://localhost:8080/",
          "height": 34
        },
        "outputId": "df462498-f486-4961-fec6-48ab0e411d3a"
      },
      "source": [
        "weather_df['Weather'].value_counts()['Clear']"
      ],
      "execution_count": null,
      "outputs": [
        {
          "output_type": "execute_result",
          "data": {
            "text/plain": [
              "1326"
            ]
          },
          "metadata": {
            "tags": []
          },
          "execution_count": 27
        }
      ]
    },
    {
      "cell_type": "code",
      "metadata": {
        "id": "I5GCH-uHFq_4",
        "colab_type": "code",
        "colab": {
          "base_uri": "https://localhost:8080/",
          "height": 34
        },
        "outputId": "fdf1e9e3-e692-467a-89a3-3fcf13de8013"
      },
      "source": [
        "weather_df['Wind Spd (km/h)']. value_counts()[4]"
      ],
      "execution_count": null,
      "outputs": [
        {
          "output_type": "execute_result",
          "data": {
            "text/plain": [
              "474"
            ]
          },
          "metadata": {
            "tags": []
          },
          "execution_count": 28
        }
      ]
    },
    {
      "cell_type": "markdown",
      "metadata": {
        "id": "7RNfWnmDLjc1",
        "colab_type": "text"
      },
      "source": [
        "#Selection"
      ]
    },
    {
      "cell_type": "code",
      "metadata": {
        "id": "gaLqun4bF-ul",
        "colab_type": "code",
        "colab": {
          "base_uri": "https://localhost:8080/",
          "height": 201
        },
        "outputId": "39a10dc7-9aea-40a5-fb22-c5ff7164b65a"
      },
      "source": [
        "weather_df[['Weather','Date/Time','Temp (C)']].head()"
      ],
      "execution_count": null,
      "outputs": [
        {
          "output_type": "execute_result",
          "data": {
            "text/html": [
              "<div>\n",
              "<style scoped>\n",
              "    .dataframe tbody tr th:only-of-type {\n",
              "        vertical-align: middle;\n",
              "    }\n",
              "\n",
              "    .dataframe tbody tr th {\n",
              "        vertical-align: top;\n",
              "    }\n",
              "\n",
              "    .dataframe thead th {\n",
              "        text-align: right;\n",
              "    }\n",
              "</style>\n",
              "<table border=\"1\" class=\"dataframe\">\n",
              "  <thead>\n",
              "    <tr style=\"text-align: right;\">\n",
              "      <th></th>\n",
              "      <th>Weather</th>\n",
              "      <th>Date/Time</th>\n",
              "      <th>Temp (C)</th>\n",
              "    </tr>\n",
              "  </thead>\n",
              "  <tbody>\n",
              "    <tr>\n",
              "      <th>0</th>\n",
              "      <td>Fog</td>\n",
              "      <td>2012-01-01 00:00:00</td>\n",
              "      <td>-1.8</td>\n",
              "    </tr>\n",
              "    <tr>\n",
              "      <th>1</th>\n",
              "      <td>Fog</td>\n",
              "      <td>2012-01-01 01:00:00</td>\n",
              "      <td>-1.8</td>\n",
              "    </tr>\n",
              "    <tr>\n",
              "      <th>2</th>\n",
              "      <td>Freezing Drizzle,Fog</td>\n",
              "      <td>2012-01-01 02:00:00</td>\n",
              "      <td>-1.8</td>\n",
              "    </tr>\n",
              "    <tr>\n",
              "      <th>3</th>\n",
              "      <td>Freezing Drizzle,Fog</td>\n",
              "      <td>2012-01-01 03:00:00</td>\n",
              "      <td>-1.5</td>\n",
              "    </tr>\n",
              "    <tr>\n",
              "      <th>4</th>\n",
              "      <td>Fog</td>\n",
              "      <td>2012-01-01 04:00:00</td>\n",
              "      <td>-1.5</td>\n",
              "    </tr>\n",
              "  </tbody>\n",
              "</table>\n",
              "</div>"
            ],
            "text/plain": [
              "                Weather           Date/Time  Temp (C)\n",
              "0                   Fog 2012-01-01 00:00:00      -1.8\n",
              "1                   Fog 2012-01-01 01:00:00      -1.8\n",
              "2  Freezing Drizzle,Fog 2012-01-01 02:00:00      -1.8\n",
              "3  Freezing Drizzle,Fog 2012-01-01 03:00:00      -1.5\n",
              "4                   Fog 2012-01-01 04:00:00      -1.5"
            ]
          },
          "metadata": {
            "tags": []
          },
          "execution_count": 37
        }
      ]
    },
    {
      "cell_type": "code",
      "metadata": {
        "id": "1m5ZfqlrIHTC",
        "colab_type": "code",
        "colab": {
          "base_uri": "https://localhost:8080/",
          "height": 810
        },
        "outputId": "9457e18b-d933-4afa-b648-62d726bcaf32"
      },
      "source": [
        "#displaying first 25 rows \n",
        "\n",
        "weather_df[:25]"
      ],
      "execution_count": null,
      "outputs": [
        {
          "output_type": "execute_result",
          "data": {
            "text/html": [
              "<div>\n",
              "<style scoped>\n",
              "    .dataframe tbody tr th:only-of-type {\n",
              "        vertical-align: middle;\n",
              "    }\n",
              "\n",
              "    .dataframe tbody tr th {\n",
              "        vertical-align: top;\n",
              "    }\n",
              "\n",
              "    .dataframe thead th {\n",
              "        text-align: right;\n",
              "    }\n",
              "</style>\n",
              "<table border=\"1\" class=\"dataframe\">\n",
              "  <thead>\n",
              "    <tr style=\"text-align: right;\">\n",
              "      <th></th>\n",
              "      <th>Date/Time</th>\n",
              "      <th>Temp (C)</th>\n",
              "      <th>Dew Point Temp (C)</th>\n",
              "      <th>Rel Hum (%)</th>\n",
              "      <th>Wind Spd (km/h)</th>\n",
              "      <th>Visibility (km)</th>\n",
              "      <th>Stn Press (kPa)</th>\n",
              "      <th>Weather</th>\n",
              "    </tr>\n",
              "  </thead>\n",
              "  <tbody>\n",
              "    <tr>\n",
              "      <th>0</th>\n",
              "      <td>2012-01-01 00:00:00</td>\n",
              "      <td>-1.8</td>\n",
              "      <td>-3.9</td>\n",
              "      <td>86</td>\n",
              "      <td>4</td>\n",
              "      <td>8.0</td>\n",
              "      <td>101.24</td>\n",
              "      <td>Fog</td>\n",
              "    </tr>\n",
              "    <tr>\n",
              "      <th>1</th>\n",
              "      <td>2012-01-01 01:00:00</td>\n",
              "      <td>-1.8</td>\n",
              "      <td>-3.7</td>\n",
              "      <td>87</td>\n",
              "      <td>4</td>\n",
              "      <td>8.0</td>\n",
              "      <td>101.24</td>\n",
              "      <td>Fog</td>\n",
              "    </tr>\n",
              "    <tr>\n",
              "      <th>2</th>\n",
              "      <td>2012-01-01 02:00:00</td>\n",
              "      <td>-1.8</td>\n",
              "      <td>-3.4</td>\n",
              "      <td>89</td>\n",
              "      <td>7</td>\n",
              "      <td>4.0</td>\n",
              "      <td>101.26</td>\n",
              "      <td>Freezing Drizzle,Fog</td>\n",
              "    </tr>\n",
              "    <tr>\n",
              "      <th>3</th>\n",
              "      <td>2012-01-01 03:00:00</td>\n",
              "      <td>-1.5</td>\n",
              "      <td>-3.2</td>\n",
              "      <td>88</td>\n",
              "      <td>6</td>\n",
              "      <td>4.0</td>\n",
              "      <td>101.27</td>\n",
              "      <td>Freezing Drizzle,Fog</td>\n",
              "    </tr>\n",
              "    <tr>\n",
              "      <th>4</th>\n",
              "      <td>2012-01-01 04:00:00</td>\n",
              "      <td>-1.5</td>\n",
              "      <td>-3.3</td>\n",
              "      <td>88</td>\n",
              "      <td>7</td>\n",
              "      <td>4.8</td>\n",
              "      <td>101.23</td>\n",
              "      <td>Fog</td>\n",
              "    </tr>\n",
              "    <tr>\n",
              "      <th>5</th>\n",
              "      <td>2012-01-01 05:00:00</td>\n",
              "      <td>-1.4</td>\n",
              "      <td>-3.3</td>\n",
              "      <td>87</td>\n",
              "      <td>9</td>\n",
              "      <td>6.4</td>\n",
              "      <td>101.27</td>\n",
              "      <td>Fog</td>\n",
              "    </tr>\n",
              "    <tr>\n",
              "      <th>6</th>\n",
              "      <td>2012-01-01 06:00:00</td>\n",
              "      <td>-1.5</td>\n",
              "      <td>-3.1</td>\n",
              "      <td>89</td>\n",
              "      <td>7</td>\n",
              "      <td>6.4</td>\n",
              "      <td>101.29</td>\n",
              "      <td>Fog</td>\n",
              "    </tr>\n",
              "    <tr>\n",
              "      <th>7</th>\n",
              "      <td>2012-01-01 07:00:00</td>\n",
              "      <td>-1.4</td>\n",
              "      <td>-3.6</td>\n",
              "      <td>85</td>\n",
              "      <td>7</td>\n",
              "      <td>8.0</td>\n",
              "      <td>101.26</td>\n",
              "      <td>Fog</td>\n",
              "    </tr>\n",
              "    <tr>\n",
              "      <th>8</th>\n",
              "      <td>2012-01-01 08:00:00</td>\n",
              "      <td>-1.4</td>\n",
              "      <td>-3.6</td>\n",
              "      <td>85</td>\n",
              "      <td>9</td>\n",
              "      <td>8.0</td>\n",
              "      <td>101.23</td>\n",
              "      <td>Fog</td>\n",
              "    </tr>\n",
              "    <tr>\n",
              "      <th>9</th>\n",
              "      <td>2012-01-01 09:00:00</td>\n",
              "      <td>-1.3</td>\n",
              "      <td>-3.1</td>\n",
              "      <td>88</td>\n",
              "      <td>15</td>\n",
              "      <td>4.0</td>\n",
              "      <td>101.20</td>\n",
              "      <td>Fog</td>\n",
              "    </tr>\n",
              "    <tr>\n",
              "      <th>10</th>\n",
              "      <td>2012-01-01 10:00:00</td>\n",
              "      <td>-1.0</td>\n",
              "      <td>-2.3</td>\n",
              "      <td>91</td>\n",
              "      <td>9</td>\n",
              "      <td>1.2</td>\n",
              "      <td>101.15</td>\n",
              "      <td>Fog</td>\n",
              "    </tr>\n",
              "    <tr>\n",
              "      <th>11</th>\n",
              "      <td>2012-01-01 11:00:00</td>\n",
              "      <td>-0.5</td>\n",
              "      <td>-2.1</td>\n",
              "      <td>89</td>\n",
              "      <td>7</td>\n",
              "      <td>4.0</td>\n",
              "      <td>100.98</td>\n",
              "      <td>Fog</td>\n",
              "    </tr>\n",
              "    <tr>\n",
              "      <th>12</th>\n",
              "      <td>2012-01-01 12:00:00</td>\n",
              "      <td>-0.2</td>\n",
              "      <td>-2.0</td>\n",
              "      <td>88</td>\n",
              "      <td>9</td>\n",
              "      <td>4.8</td>\n",
              "      <td>100.79</td>\n",
              "      <td>Fog</td>\n",
              "    </tr>\n",
              "    <tr>\n",
              "      <th>13</th>\n",
              "      <td>2012-01-01 13:00:00</td>\n",
              "      <td>0.2</td>\n",
              "      <td>-1.7</td>\n",
              "      <td>87</td>\n",
              "      <td>13</td>\n",
              "      <td>4.8</td>\n",
              "      <td>100.58</td>\n",
              "      <td>Fog</td>\n",
              "    </tr>\n",
              "    <tr>\n",
              "      <th>14</th>\n",
              "      <td>2012-01-01 14:00:00</td>\n",
              "      <td>0.8</td>\n",
              "      <td>-1.1</td>\n",
              "      <td>87</td>\n",
              "      <td>20</td>\n",
              "      <td>4.8</td>\n",
              "      <td>100.31</td>\n",
              "      <td>Fog</td>\n",
              "    </tr>\n",
              "    <tr>\n",
              "      <th>15</th>\n",
              "      <td>2012-01-01 15:00:00</td>\n",
              "      <td>1.8</td>\n",
              "      <td>-0.4</td>\n",
              "      <td>85</td>\n",
              "      <td>22</td>\n",
              "      <td>6.4</td>\n",
              "      <td>100.07</td>\n",
              "      <td>Fog</td>\n",
              "    </tr>\n",
              "    <tr>\n",
              "      <th>16</th>\n",
              "      <td>2012-01-01 16:00:00</td>\n",
              "      <td>2.6</td>\n",
              "      <td>-0.2</td>\n",
              "      <td>82</td>\n",
              "      <td>13</td>\n",
              "      <td>12.9</td>\n",
              "      <td>99.93</td>\n",
              "      <td>Mostly Cloudy</td>\n",
              "    </tr>\n",
              "    <tr>\n",
              "      <th>17</th>\n",
              "      <td>2012-01-01 17:00:00</td>\n",
              "      <td>3.0</td>\n",
              "      <td>0.0</td>\n",
              "      <td>81</td>\n",
              "      <td>13</td>\n",
              "      <td>16.1</td>\n",
              "      <td>99.81</td>\n",
              "      <td>Cloudy</td>\n",
              "    </tr>\n",
              "    <tr>\n",
              "      <th>18</th>\n",
              "      <td>2012-01-01 18:00:00</td>\n",
              "      <td>3.8</td>\n",
              "      <td>1.0</td>\n",
              "      <td>82</td>\n",
              "      <td>15</td>\n",
              "      <td>12.9</td>\n",
              "      <td>99.74</td>\n",
              "      <td>Rain</td>\n",
              "    </tr>\n",
              "    <tr>\n",
              "      <th>19</th>\n",
              "      <td>2012-01-01 19:00:00</td>\n",
              "      <td>3.1</td>\n",
              "      <td>1.3</td>\n",
              "      <td>88</td>\n",
              "      <td>15</td>\n",
              "      <td>12.9</td>\n",
              "      <td>99.68</td>\n",
              "      <td>Rain</td>\n",
              "    </tr>\n",
              "    <tr>\n",
              "      <th>20</th>\n",
              "      <td>2012-01-01 20:00:00</td>\n",
              "      <td>3.2</td>\n",
              "      <td>1.3</td>\n",
              "      <td>87</td>\n",
              "      <td>19</td>\n",
              "      <td>25.0</td>\n",
              "      <td>99.50</td>\n",
              "      <td>Cloudy</td>\n",
              "    </tr>\n",
              "    <tr>\n",
              "      <th>21</th>\n",
              "      <td>2012-01-01 21:00:00</td>\n",
              "      <td>4.0</td>\n",
              "      <td>1.7</td>\n",
              "      <td>85</td>\n",
              "      <td>20</td>\n",
              "      <td>25.0</td>\n",
              "      <td>99.39</td>\n",
              "      <td>Cloudy</td>\n",
              "    </tr>\n",
              "    <tr>\n",
              "      <th>22</th>\n",
              "      <td>2012-01-01 22:00:00</td>\n",
              "      <td>4.4</td>\n",
              "      <td>1.9</td>\n",
              "      <td>84</td>\n",
              "      <td>24</td>\n",
              "      <td>19.3</td>\n",
              "      <td>99.32</td>\n",
              "      <td>Rain Showers</td>\n",
              "    </tr>\n",
              "    <tr>\n",
              "      <th>23</th>\n",
              "      <td>2012-01-01 23:00:00</td>\n",
              "      <td>5.3</td>\n",
              "      <td>2.0</td>\n",
              "      <td>79</td>\n",
              "      <td>30</td>\n",
              "      <td>25.0</td>\n",
              "      <td>99.31</td>\n",
              "      <td>Cloudy</td>\n",
              "    </tr>\n",
              "    <tr>\n",
              "      <th>24</th>\n",
              "      <td>2012-01-02 00:00:00</td>\n",
              "      <td>5.2</td>\n",
              "      <td>1.5</td>\n",
              "      <td>77</td>\n",
              "      <td>35</td>\n",
              "      <td>25.0</td>\n",
              "      <td>99.26</td>\n",
              "      <td>Rain Showers</td>\n",
              "    </tr>\n",
              "  </tbody>\n",
              "</table>\n",
              "</div>"
            ],
            "text/plain": [
              "             Date/Time  Temp (C)  ...  Stn Press (kPa)               Weather\n",
              "0  2012-01-01 00:00:00      -1.8  ...           101.24                   Fog\n",
              "1  2012-01-01 01:00:00      -1.8  ...           101.24                   Fog\n",
              "2  2012-01-01 02:00:00      -1.8  ...           101.26  Freezing Drizzle,Fog\n",
              "3  2012-01-01 03:00:00      -1.5  ...           101.27  Freezing Drizzle,Fog\n",
              "4  2012-01-01 04:00:00      -1.5  ...           101.23                   Fog\n",
              "5  2012-01-01 05:00:00      -1.4  ...           101.27                   Fog\n",
              "6  2012-01-01 06:00:00      -1.5  ...           101.29                   Fog\n",
              "7  2012-01-01 07:00:00      -1.4  ...           101.26                   Fog\n",
              "8  2012-01-01 08:00:00      -1.4  ...           101.23                   Fog\n",
              "9  2012-01-01 09:00:00      -1.3  ...           101.20                   Fog\n",
              "10 2012-01-01 10:00:00      -1.0  ...           101.15                   Fog\n",
              "11 2012-01-01 11:00:00      -0.5  ...           100.98                   Fog\n",
              "12 2012-01-01 12:00:00      -0.2  ...           100.79                   Fog\n",
              "13 2012-01-01 13:00:00       0.2  ...           100.58                   Fog\n",
              "14 2012-01-01 14:00:00       0.8  ...           100.31                   Fog\n",
              "15 2012-01-01 15:00:00       1.8  ...           100.07                   Fog\n",
              "16 2012-01-01 16:00:00       2.6  ...            99.93         Mostly Cloudy\n",
              "17 2012-01-01 17:00:00       3.0  ...            99.81                Cloudy\n",
              "18 2012-01-01 18:00:00       3.8  ...            99.74                  Rain\n",
              "19 2012-01-01 19:00:00       3.1  ...            99.68                  Rain\n",
              "20 2012-01-01 20:00:00       3.2  ...            99.50                Cloudy\n",
              "21 2012-01-01 21:00:00       4.0  ...            99.39                Cloudy\n",
              "22 2012-01-01 22:00:00       4.4  ...            99.32          Rain Showers\n",
              "23 2012-01-01 23:00:00       5.3  ...            99.31                Cloudy\n",
              "24 2012-01-02 00:00:00       5.2  ...            99.26          Rain Showers\n",
              "\n",
              "[25 rows x 8 columns]"
            ]
          },
          "metadata": {
            "tags": []
          },
          "execution_count": 38
        }
      ]
    },
    {
      "cell_type": "markdown",
      "metadata": {
        "id": "Mj3UCB9lLNjH",
        "colab_type": "text"
      },
      "source": [
        "first three alternating rows but only for \"Visibility\" and \"Relative Humidity\"\n"
      ]
    },
    {
      "cell_type": "code",
      "metadata": {
        "id": "yUbUcrihJqVu",
        "colab_type": "code",
        "colab": {
          "base_uri": "https://localhost:8080/",
          "height": 140
        },
        "outputId": "d748ad02-c513-433a-ceaa-d693e5469249"
      },
      "source": [
        "#using slicing\n",
        "weather_df[:6:2][['Rel Hum (%)','Visibility (km)']]"
      ],
      "execution_count": null,
      "outputs": [
        {
          "output_type": "execute_result",
          "data": {
            "text/html": [
              "<div>\n",
              "<style scoped>\n",
              "    .dataframe tbody tr th:only-of-type {\n",
              "        vertical-align: middle;\n",
              "    }\n",
              "\n",
              "    .dataframe tbody tr th {\n",
              "        vertical-align: top;\n",
              "    }\n",
              "\n",
              "    .dataframe thead th {\n",
              "        text-align: right;\n",
              "    }\n",
              "</style>\n",
              "<table border=\"1\" class=\"dataframe\">\n",
              "  <thead>\n",
              "    <tr style=\"text-align: right;\">\n",
              "      <th></th>\n",
              "      <th>Rel Hum (%)</th>\n",
              "      <th>Visibility (km)</th>\n",
              "    </tr>\n",
              "  </thead>\n",
              "  <tbody>\n",
              "    <tr>\n",
              "      <th>0</th>\n",
              "      <td>86</td>\n",
              "      <td>8.0</td>\n",
              "    </tr>\n",
              "    <tr>\n",
              "      <th>2</th>\n",
              "      <td>89</td>\n",
              "      <td>4.0</td>\n",
              "    </tr>\n",
              "    <tr>\n",
              "      <th>4</th>\n",
              "      <td>88</td>\n",
              "      <td>4.8</td>\n",
              "    </tr>\n",
              "  </tbody>\n",
              "</table>\n",
              "</div>"
            ],
            "text/plain": [
              "   Rel Hum (%)  Visibility (km)\n",
              "0           86              8.0\n",
              "2           89              4.0\n",
              "4           88              4.8"
            ]
          },
          "metadata": {
            "tags": []
          },
          "execution_count": 43
        }
      ]
    },
    {
      "cell_type": "code",
      "metadata": {
        "id": "gcO0Xfj-LaIb",
        "colab_type": "code",
        "colab": {
          "base_uri": "https://localhost:8080/",
          "height": 140
        },
        "outputId": "07afb7e8-b7c1-4d2d-da07-b1e8e5c2baf6"
      },
      "source": [
        "#using iloc\n",
        "weather_df[['Rel Hum (%)','Visibility (km)']].iloc[:6:2]"
      ],
      "execution_count": null,
      "outputs": [
        {
          "output_type": "execute_result",
          "data": {
            "text/html": [
              "<div>\n",
              "<style scoped>\n",
              "    .dataframe tbody tr th:only-of-type {\n",
              "        vertical-align: middle;\n",
              "    }\n",
              "\n",
              "    .dataframe tbody tr th {\n",
              "        vertical-align: top;\n",
              "    }\n",
              "\n",
              "    .dataframe thead th {\n",
              "        text-align: right;\n",
              "    }\n",
              "</style>\n",
              "<table border=\"1\" class=\"dataframe\">\n",
              "  <thead>\n",
              "    <tr style=\"text-align: right;\">\n",
              "      <th></th>\n",
              "      <th>Rel Hum (%)</th>\n",
              "      <th>Visibility (km)</th>\n",
              "    </tr>\n",
              "  </thead>\n",
              "  <tbody>\n",
              "    <tr>\n",
              "      <th>0</th>\n",
              "      <td>86</td>\n",
              "      <td>8.0</td>\n",
              "    </tr>\n",
              "    <tr>\n",
              "      <th>2</th>\n",
              "      <td>89</td>\n",
              "      <td>4.0</td>\n",
              "    </tr>\n",
              "    <tr>\n",
              "      <th>4</th>\n",
              "      <td>88</td>\n",
              "      <td>4.8</td>\n",
              "    </tr>\n",
              "  </tbody>\n",
              "</table>\n",
              "</div>"
            ],
            "text/plain": [
              "   Rel Hum (%)  Visibility (km)\n",
              "0           86              8.0\n",
              "2           89              4.0\n",
              "4           88              4.8"
            ]
          },
          "metadata": {
            "tags": []
          },
          "execution_count": 44
        }
      ]
    },
    {
      "cell_type": "markdown",
      "metadata": {
        "id": "HPz87ErzL4n1",
        "colab_type": "text"
      },
      "source": [
        "#Filtering"
      ]
    },
    {
      "cell_type": "code",
      "metadata": {
        "id": "Af60yCpaKMiN",
        "colab_type": "code",
        "colab": {
          "base_uri": "https://localhost:8080/",
          "height": 411
        },
        "outputId": "d2ccb56a-2830-443d-dcd2-15e9c0874620"
      },
      "source": [
        "#Filtering out records that have the word 'snow' \n",
        "\n",
        "snow_filter = weather_df['Weather'].str.lower().str.contains('snow')\n",
        "weather_df[snow_filter]"
      ],
      "execution_count": null,
      "outputs": [
        {
          "output_type": "execute_result",
          "data": {
            "text/html": [
              "<div>\n",
              "<style scoped>\n",
              "    .dataframe tbody tr th:only-of-type {\n",
              "        vertical-align: middle;\n",
              "    }\n",
              "\n",
              "    .dataframe tbody tr th {\n",
              "        vertical-align: top;\n",
              "    }\n",
              "\n",
              "    .dataframe thead th {\n",
              "        text-align: right;\n",
              "    }\n",
              "</style>\n",
              "<table border=\"1\" class=\"dataframe\">\n",
              "  <thead>\n",
              "    <tr style=\"text-align: right;\">\n",
              "      <th></th>\n",
              "      <th>Date/Time</th>\n",
              "      <th>Temp (C)</th>\n",
              "      <th>Dew Point Temp (C)</th>\n",
              "      <th>Rel Hum (%)</th>\n",
              "      <th>Wind Spd (km/h)</th>\n",
              "      <th>Visibility (km)</th>\n",
              "      <th>Stn Press (kPa)</th>\n",
              "      <th>Weather</th>\n",
              "    </tr>\n",
              "  </thead>\n",
              "  <tbody>\n",
              "    <tr>\n",
              "      <th>41</th>\n",
              "      <td>2012-01-02 17:00:00</td>\n",
              "      <td>-2.1</td>\n",
              "      <td>-9.5</td>\n",
              "      <td>57</td>\n",
              "      <td>22</td>\n",
              "      <td>25.0</td>\n",
              "      <td>99.66</td>\n",
              "      <td>Snow Showers</td>\n",
              "    </tr>\n",
              "    <tr>\n",
              "      <th>44</th>\n",
              "      <td>2012-01-02 20:00:00</td>\n",
              "      <td>-5.6</td>\n",
              "      <td>-13.4</td>\n",
              "      <td>54</td>\n",
              "      <td>24</td>\n",
              "      <td>25.0</td>\n",
              "      <td>100.07</td>\n",
              "      <td>Snow Showers</td>\n",
              "    </tr>\n",
              "    <tr>\n",
              "      <th>45</th>\n",
              "      <td>2012-01-02 21:00:00</td>\n",
              "      <td>-5.8</td>\n",
              "      <td>-12.8</td>\n",
              "      <td>58</td>\n",
              "      <td>26</td>\n",
              "      <td>25.0</td>\n",
              "      <td>100.15</td>\n",
              "      <td>Snow Showers</td>\n",
              "    </tr>\n",
              "    <tr>\n",
              "      <th>47</th>\n",
              "      <td>2012-01-02 23:00:00</td>\n",
              "      <td>-7.4</td>\n",
              "      <td>-14.1</td>\n",
              "      <td>59</td>\n",
              "      <td>17</td>\n",
              "      <td>19.3</td>\n",
              "      <td>100.27</td>\n",
              "      <td>Snow Showers</td>\n",
              "    </tr>\n",
              "    <tr>\n",
              "      <th>48</th>\n",
              "      <td>2012-01-03 00:00:00</td>\n",
              "      <td>-9.0</td>\n",
              "      <td>-16.0</td>\n",
              "      <td>57</td>\n",
              "      <td>28</td>\n",
              "      <td>25.0</td>\n",
              "      <td>100.35</td>\n",
              "      <td>Snow Showers</td>\n",
              "    </tr>\n",
              "    <tr>\n",
              "      <th>...</th>\n",
              "      <td>...</td>\n",
              "      <td>...</td>\n",
              "      <td>...</td>\n",
              "      <td>...</td>\n",
              "      <td>...</td>\n",
              "      <td>...</td>\n",
              "      <td>...</td>\n",
              "      <td>...</td>\n",
              "    </tr>\n",
              "    <tr>\n",
              "      <th>8779</th>\n",
              "      <td>2012-12-31 19:00:00</td>\n",
              "      <td>0.1</td>\n",
              "      <td>-2.7</td>\n",
              "      <td>81</td>\n",
              "      <td>30</td>\n",
              "      <td>9.7</td>\n",
              "      <td>100.13</td>\n",
              "      <td>Snow</td>\n",
              "    </tr>\n",
              "    <tr>\n",
              "      <th>8780</th>\n",
              "      <td>2012-12-31 20:00:00</td>\n",
              "      <td>0.2</td>\n",
              "      <td>-2.4</td>\n",
              "      <td>83</td>\n",
              "      <td>24</td>\n",
              "      <td>9.7</td>\n",
              "      <td>100.03</td>\n",
              "      <td>Snow</td>\n",
              "    </tr>\n",
              "    <tr>\n",
              "      <th>8781</th>\n",
              "      <td>2012-12-31 21:00:00</td>\n",
              "      <td>-0.5</td>\n",
              "      <td>-1.5</td>\n",
              "      <td>93</td>\n",
              "      <td>28</td>\n",
              "      <td>4.8</td>\n",
              "      <td>99.95</td>\n",
              "      <td>Snow</td>\n",
              "    </tr>\n",
              "    <tr>\n",
              "      <th>8782</th>\n",
              "      <td>2012-12-31 22:00:00</td>\n",
              "      <td>-0.2</td>\n",
              "      <td>-1.8</td>\n",
              "      <td>89</td>\n",
              "      <td>28</td>\n",
              "      <td>9.7</td>\n",
              "      <td>99.91</td>\n",
              "      <td>Snow</td>\n",
              "    </tr>\n",
              "    <tr>\n",
              "      <th>8783</th>\n",
              "      <td>2012-12-31 23:00:00</td>\n",
              "      <td>0.0</td>\n",
              "      <td>-2.1</td>\n",
              "      <td>86</td>\n",
              "      <td>30</td>\n",
              "      <td>11.3</td>\n",
              "      <td>99.89</td>\n",
              "      <td>Snow</td>\n",
              "    </tr>\n",
              "  </tbody>\n",
              "</table>\n",
              "<p>583 rows × 8 columns</p>\n",
              "</div>"
            ],
            "text/plain": [
              "               Date/Time  Temp (C)  ...  Stn Press (kPa)       Weather\n",
              "41   2012-01-02 17:00:00      -2.1  ...            99.66  Snow Showers\n",
              "44   2012-01-02 20:00:00      -5.6  ...           100.07  Snow Showers\n",
              "45   2012-01-02 21:00:00      -5.8  ...           100.15  Snow Showers\n",
              "47   2012-01-02 23:00:00      -7.4  ...           100.27  Snow Showers\n",
              "48   2012-01-03 00:00:00      -9.0  ...           100.35  Snow Showers\n",
              "...                  ...       ...  ...              ...           ...\n",
              "8779 2012-12-31 19:00:00       0.1  ...           100.13          Snow\n",
              "8780 2012-12-31 20:00:00       0.2  ...           100.03          Snow\n",
              "8781 2012-12-31 21:00:00      -0.5  ...            99.95          Snow\n",
              "8782 2012-12-31 22:00:00      -0.2  ...            99.91          Snow\n",
              "8783 2012-12-31 23:00:00       0.0  ...            99.89          Snow\n",
              "\n",
              "[583 rows x 8 columns]"
            ]
          },
          "metadata": {
            "tags": []
          },
          "execution_count": 41
        }
      ]
    },
    {
      "cell_type": "code",
      "metadata": {
        "id": "jOpf3AIDQvhu",
        "colab_type": "code",
        "colab": {
          "base_uri": "https://localhost:8080/",
          "height": 201
        },
        "outputId": "3da1ad82-5785-4eeb-d444-56f6addcfbfb"
      },
      "source": [
        "#Find all instances when wind speed was above 24 and visibility was 25\n",
        "w24v25 = weather_df[(weather_df['Wind Spd (km/h)'] > 24) & (weather_df['Visibility (km)']== 25)]\n",
        "w24v25.head()"
      ],
      "execution_count": null,
      "outputs": [
        {
          "output_type": "execute_result",
          "data": {
            "text/html": [
              "<div>\n",
              "<style scoped>\n",
              "    .dataframe tbody tr th:only-of-type {\n",
              "        vertical-align: middle;\n",
              "    }\n",
              "\n",
              "    .dataframe tbody tr th {\n",
              "        vertical-align: top;\n",
              "    }\n",
              "\n",
              "    .dataframe thead th {\n",
              "        text-align: right;\n",
              "    }\n",
              "</style>\n",
              "<table border=\"1\" class=\"dataframe\">\n",
              "  <thead>\n",
              "    <tr style=\"text-align: right;\">\n",
              "      <th></th>\n",
              "      <th>Date/Time</th>\n",
              "      <th>Temp (C)</th>\n",
              "      <th>Dew Point Temp (C)</th>\n",
              "      <th>Rel Hum (%)</th>\n",
              "      <th>Wind Spd (km/h)</th>\n",
              "      <th>Visibility (km)</th>\n",
              "      <th>Stn Press (kPa)</th>\n",
              "      <th>Weather</th>\n",
              "    </tr>\n",
              "  </thead>\n",
              "  <tbody>\n",
              "    <tr>\n",
              "      <th>23</th>\n",
              "      <td>2012-01-01 23:00:00</td>\n",
              "      <td>5.3</td>\n",
              "      <td>2.0</td>\n",
              "      <td>79</td>\n",
              "      <td>30</td>\n",
              "      <td>25.0</td>\n",
              "      <td>99.31</td>\n",
              "      <td>Cloudy</td>\n",
              "    </tr>\n",
              "    <tr>\n",
              "      <th>24</th>\n",
              "      <td>2012-01-02 00:00:00</td>\n",
              "      <td>5.2</td>\n",
              "      <td>1.5</td>\n",
              "      <td>77</td>\n",
              "      <td>35</td>\n",
              "      <td>25.0</td>\n",
              "      <td>99.26</td>\n",
              "      <td>Rain Showers</td>\n",
              "    </tr>\n",
              "    <tr>\n",
              "      <th>25</th>\n",
              "      <td>2012-01-02 01:00:00</td>\n",
              "      <td>4.6</td>\n",
              "      <td>0.0</td>\n",
              "      <td>72</td>\n",
              "      <td>39</td>\n",
              "      <td>25.0</td>\n",
              "      <td>99.26</td>\n",
              "      <td>Cloudy</td>\n",
              "    </tr>\n",
              "    <tr>\n",
              "      <th>26</th>\n",
              "      <td>2012-01-02 02:00:00</td>\n",
              "      <td>3.9</td>\n",
              "      <td>-0.9</td>\n",
              "      <td>71</td>\n",
              "      <td>32</td>\n",
              "      <td>25.0</td>\n",
              "      <td>99.26</td>\n",
              "      <td>Mostly Cloudy</td>\n",
              "    </tr>\n",
              "    <tr>\n",
              "      <th>27</th>\n",
              "      <td>2012-01-02 03:00:00</td>\n",
              "      <td>3.7</td>\n",
              "      <td>-1.5</td>\n",
              "      <td>69</td>\n",
              "      <td>33</td>\n",
              "      <td>25.0</td>\n",
              "      <td>99.30</td>\n",
              "      <td>Mostly Cloudy</td>\n",
              "    </tr>\n",
              "  </tbody>\n",
              "</table>\n",
              "</div>"
            ],
            "text/plain": [
              "             Date/Time  Temp (C)  ...  Stn Press (kPa)        Weather\n",
              "23 2012-01-01 23:00:00       5.3  ...            99.31         Cloudy\n",
              "24 2012-01-02 00:00:00       5.2  ...            99.26   Rain Showers\n",
              "25 2012-01-02 01:00:00       4.6  ...            99.26         Cloudy\n",
              "26 2012-01-02 02:00:00       3.9  ...            99.26  Mostly Cloudy\n",
              "27 2012-01-02 03:00:00       3.7  ...            99.30  Mostly Cloudy\n",
              "\n",
              "[5 rows x 8 columns]"
            ]
          },
          "metadata": {
            "tags": []
          },
          "execution_count": 61
        }
      ]
    },
    {
      "cell_type": "markdown",
      "metadata": {
        "id": "oXruEIsRZM1k",
        "colab_type": "text"
      },
      "source": [
        "#Working with Series/Columns"
      ]
    },
    {
      "cell_type": "markdown",
      "metadata": {
        "id": "beRRKr6Qz354",
        "colab_type": "text"
      },
      "source": [
        "Operations on Columns"
      ]
    },
    {
      "cell_type": "code",
      "metadata": {
        "id": "0Y1RzlZJZWoI",
        "colab_type": "code",
        "colab": {
          "base_uri": "https://localhost:8080/",
          "height": 199
        },
        "outputId": "e6daf093-1587-4835-e76c-72b06491fb8c"
      },
      "source": [
        "#Add 10 to the values in the 'Wind Spd (km/h) using the \"+\" operator \n",
        "\n",
        "add_10 = weather_df['Wind Spd (km/h)'] + 10 \n",
        "add_10.head(10)"
      ],
      "execution_count": null,
      "outputs": [
        {
          "output_type": "execute_result",
          "data": {
            "text/plain": [
              "0    14\n",
              "1    14\n",
              "2    17\n",
              "3    16\n",
              "4    17\n",
              "5    19\n",
              "6    17\n",
              "7    17\n",
              "8    19\n",
              "9    25\n",
              "Name: Wind Spd (km/h), dtype: int64"
            ]
          },
          "metadata": {
            "tags": []
          },
          "execution_count": 66
        }
      ]
    },
    {
      "cell_type": "code",
      "metadata": {
        "id": "6XczzuihZxyS",
        "colab_type": "code",
        "colab": {
          "base_uri": "https://localhost:8080/",
          "height": 199
        },
        "outputId": "64dc12c4-e044-444e-b9dc-e41369e95711"
      },
      "source": [
        "#Multiply the values in \"Visibility (km)\" by 5 using the \"*\" operator\n",
        "\n",
        "multiply_10 = weather_df['Visibility (km)'] * 5\n",
        "multiply_10.head(10)"
      ],
      "execution_count": null,
      "outputs": [
        {
          "output_type": "execute_result",
          "data": {
            "text/plain": [
              "0    40.0\n",
              "1    40.0\n",
              "2    20.0\n",
              "3    20.0\n",
              "4    24.0\n",
              "5    32.0\n",
              "6    32.0\n",
              "7    40.0\n",
              "8    40.0\n",
              "9    20.0\n",
              "Name: Visibility (km), dtype: float64"
            ]
          },
          "metadata": {
            "tags": []
          },
          "execution_count": 68
        }
      ]
    },
    {
      "cell_type": "markdown",
      "metadata": {
        "id": "zLhs2aDjeT6V",
        "colab_type": "text"
      },
      "source": [
        "Adding columns"
      ]
    },
    {
      "cell_type": "code",
      "metadata": {
        "id": "8WG3GdHUbOc1",
        "colab_type": "code",
        "colab": {
          "base_uri": "https://localhost:8080/",
          "height": 199
        },
        "outputId": "4b2b8fee-48b5-4b2b-c85d-2b29b98bb4d4"
      },
      "source": [
        "#Add the Dew Point Temp column to the Temp column \n",
        "\n",
        "temperature = weather_df['Dew Point Temp (C)'] + weather_df['Temp (C)']\n",
        "temperature.head(10)"
      ],
      "execution_count": null,
      "outputs": [
        {
          "output_type": "execute_result",
          "data": {
            "text/plain": [
              "0   -5.7\n",
              "1   -5.5\n",
              "2   -5.2\n",
              "3   -4.7\n",
              "4   -4.8\n",
              "5   -4.7\n",
              "6   -4.6\n",
              "7   -5.0\n",
              "8   -5.0\n",
              "9   -4.4\n",
              "dtype: float64"
            ]
          },
          "metadata": {
            "tags": []
          },
          "execution_count": 72
        }
      ]
    },
    {
      "cell_type": "markdown",
      "metadata": {
        "id": "nhkGytZqdG-I",
        "colab_type": "text"
      },
      "source": [
        "Applying/Calling Functions\n"
      ]
    },
    {
      "cell_type": "code",
      "metadata": {
        "id": "mevmy9zxbxVm",
        "colab_type": "code",
        "colab": {
          "base_uri": "https://localhost:8080/",
          "height": 216
        },
        "outputId": "38918968-86b1-42c2-ec1c-403a267e29c6"
      },
      "source": [
        "def times_ten(value):\n",
        "  return value*10\n",
        "t10temp = weather_df['Temp (C)'].apply(times_ten)\n",
        "t10temp"
      ],
      "execution_count": null,
      "outputs": [
        {
          "output_type": "execute_result",
          "data": {
            "text/plain": [
              "0      -18.0\n",
              "1      -18.0\n",
              "2      -18.0\n",
              "3      -15.0\n",
              "4      -15.0\n",
              "        ... \n",
              "8779     1.0\n",
              "8780     2.0\n",
              "8781    -5.0\n",
              "8782    -2.0\n",
              "8783     0.0\n",
              "Name: Temp (C), Length: 8784, dtype: float64"
            ]
          },
          "metadata": {
            "tags": []
          },
          "execution_count": 76
        }
      ]
    },
    {
      "cell_type": "markdown",
      "metadata": {
        "id": "2TtIKgeu0KwU",
        "colab_type": "text"
      },
      "source": [
        "Creating New Columns"
      ]
    },
    {
      "cell_type": "code",
      "metadata": {
        "id": "wgA4YrqbdoeE",
        "colab_type": "code",
        "colab": {
          "base_uri": "https://localhost:8080/",
          "height": 201
        },
        "outputId": "7319382d-fcdf-4004-a41f-878b6baabfd9"
      },
      "source": [
        "Visibility_in_meter = weather_df['Visibility (km)'] *1000\n",
        "weather_df['Visibility (m)'] = Visibility_in_meter\n",
        "weather_df.head() "
      ],
      "execution_count": null,
      "outputs": [
        {
          "output_type": "execute_result",
          "data": {
            "text/html": [
              "<div>\n",
              "<style scoped>\n",
              "    .dataframe tbody tr th:only-of-type {\n",
              "        vertical-align: middle;\n",
              "    }\n",
              "\n",
              "    .dataframe tbody tr th {\n",
              "        vertical-align: top;\n",
              "    }\n",
              "\n",
              "    .dataframe thead th {\n",
              "        text-align: right;\n",
              "    }\n",
              "</style>\n",
              "<table border=\"1\" class=\"dataframe\">\n",
              "  <thead>\n",
              "    <tr style=\"text-align: right;\">\n",
              "      <th></th>\n",
              "      <th>Date/Time</th>\n",
              "      <th>Temp (C)</th>\n",
              "      <th>Dew Point Temp (C)</th>\n",
              "      <th>Rel Hum (%)</th>\n",
              "      <th>Wind Spd (km/h)</th>\n",
              "      <th>Visibility (km)</th>\n",
              "      <th>Stn Press (kPa)</th>\n",
              "      <th>Weather</th>\n",
              "      <th>Visibility (m)</th>\n",
              "    </tr>\n",
              "  </thead>\n",
              "  <tbody>\n",
              "    <tr>\n",
              "      <th>0</th>\n",
              "      <td>2012-01-01 00:00:00</td>\n",
              "      <td>-1.8</td>\n",
              "      <td>-3.9</td>\n",
              "      <td>86</td>\n",
              "      <td>4</td>\n",
              "      <td>8.0</td>\n",
              "      <td>101.24</td>\n",
              "      <td>Fog</td>\n",
              "      <td>8000.0</td>\n",
              "    </tr>\n",
              "    <tr>\n",
              "      <th>1</th>\n",
              "      <td>2012-01-01 01:00:00</td>\n",
              "      <td>-1.8</td>\n",
              "      <td>-3.7</td>\n",
              "      <td>87</td>\n",
              "      <td>4</td>\n",
              "      <td>8.0</td>\n",
              "      <td>101.24</td>\n",
              "      <td>Fog</td>\n",
              "      <td>8000.0</td>\n",
              "    </tr>\n",
              "    <tr>\n",
              "      <th>2</th>\n",
              "      <td>2012-01-01 02:00:00</td>\n",
              "      <td>-1.8</td>\n",
              "      <td>-3.4</td>\n",
              "      <td>89</td>\n",
              "      <td>7</td>\n",
              "      <td>4.0</td>\n",
              "      <td>101.26</td>\n",
              "      <td>Freezing Drizzle,Fog</td>\n",
              "      <td>4000.0</td>\n",
              "    </tr>\n",
              "    <tr>\n",
              "      <th>3</th>\n",
              "      <td>2012-01-01 03:00:00</td>\n",
              "      <td>-1.5</td>\n",
              "      <td>-3.2</td>\n",
              "      <td>88</td>\n",
              "      <td>6</td>\n",
              "      <td>4.0</td>\n",
              "      <td>101.27</td>\n",
              "      <td>Freezing Drizzle,Fog</td>\n",
              "      <td>4000.0</td>\n",
              "    </tr>\n",
              "    <tr>\n",
              "      <th>4</th>\n",
              "      <td>2012-01-01 04:00:00</td>\n",
              "      <td>-1.5</td>\n",
              "      <td>-3.3</td>\n",
              "      <td>88</td>\n",
              "      <td>7</td>\n",
              "      <td>4.8</td>\n",
              "      <td>101.23</td>\n",
              "      <td>Fog</td>\n",
              "      <td>4800.0</td>\n",
              "    </tr>\n",
              "  </tbody>\n",
              "</table>\n",
              "</div>"
            ],
            "text/plain": [
              "             Date/Time  Temp (C)  ...               Weather  Visibility (m)\n",
              "0  2012-01-01 00:00:00      -1.8  ...                   Fog          8000.0\n",
              "1  2012-01-01 01:00:00      -1.8  ...                   Fog          8000.0\n",
              "2  2012-01-01 02:00:00      -1.8  ...  Freezing Drizzle,Fog          4000.0\n",
              "3  2012-01-01 03:00:00      -1.5  ...  Freezing Drizzle,Fog          4000.0\n",
              "4  2012-01-01 04:00:00      -1.5  ...                   Fog          4800.0\n",
              "\n",
              "[5 rows x 9 columns]"
            ]
          },
          "metadata": {
            "tags": []
          },
          "execution_count": 79
        }
      ]
    },
    {
      "cell_type": "code",
      "metadata": {
        "id": "3_6F8WMdg_Nb",
        "colab_type": "code",
        "colab": {
          "base_uri": "https://localhost:8080/",
          "height": 411
        },
        "outputId": "dfab1b65-d5d7-4729-a6dc-d87a7c4a1d46"
      },
      "source": [
        "#reordering the columns so Visibility in km and Visibility in m are side by side \n",
        "\n",
        "newcol = ['Date/Time',\t'Temp (C)',\t'Dew Point Temp (C)',\t'Rel Hum (%)',\t'Wind Spd (km/h)',\t'Visibility (km)',\t'Visibility (m)', 'Stn Press (kPa)',\t'Weather']\n",
        "newdf = weather_df.reindex(columns=newcol)\n",
        "newdf"
      ],
      "execution_count": null,
      "outputs": [
        {
          "output_type": "execute_result",
          "data": {
            "text/html": [
              "<div>\n",
              "<style scoped>\n",
              "    .dataframe tbody tr th:only-of-type {\n",
              "        vertical-align: middle;\n",
              "    }\n",
              "\n",
              "    .dataframe tbody tr th {\n",
              "        vertical-align: top;\n",
              "    }\n",
              "\n",
              "    .dataframe thead th {\n",
              "        text-align: right;\n",
              "    }\n",
              "</style>\n",
              "<table border=\"1\" class=\"dataframe\">\n",
              "  <thead>\n",
              "    <tr style=\"text-align: right;\">\n",
              "      <th></th>\n",
              "      <th>Date/Time</th>\n",
              "      <th>Temp (C)</th>\n",
              "      <th>Dew Point Temp (C)</th>\n",
              "      <th>Rel Hum (%)</th>\n",
              "      <th>Wind Spd (km/h)</th>\n",
              "      <th>Visibility (km)</th>\n",
              "      <th>Visibility (m)</th>\n",
              "      <th>Stn Press (kPa)</th>\n",
              "      <th>Weather</th>\n",
              "    </tr>\n",
              "  </thead>\n",
              "  <tbody>\n",
              "    <tr>\n",
              "      <th>0</th>\n",
              "      <td>2012-01-01 00:00:00</td>\n",
              "      <td>-1.8</td>\n",
              "      <td>-3.9</td>\n",
              "      <td>86</td>\n",
              "      <td>4</td>\n",
              "      <td>8.0</td>\n",
              "      <td>8000.0</td>\n",
              "      <td>101.24</td>\n",
              "      <td>Fog</td>\n",
              "    </tr>\n",
              "    <tr>\n",
              "      <th>1</th>\n",
              "      <td>2012-01-01 01:00:00</td>\n",
              "      <td>-1.8</td>\n",
              "      <td>-3.7</td>\n",
              "      <td>87</td>\n",
              "      <td>4</td>\n",
              "      <td>8.0</td>\n",
              "      <td>8000.0</td>\n",
              "      <td>101.24</td>\n",
              "      <td>Fog</td>\n",
              "    </tr>\n",
              "    <tr>\n",
              "      <th>2</th>\n",
              "      <td>2012-01-01 02:00:00</td>\n",
              "      <td>-1.8</td>\n",
              "      <td>-3.4</td>\n",
              "      <td>89</td>\n",
              "      <td>7</td>\n",
              "      <td>4.0</td>\n",
              "      <td>4000.0</td>\n",
              "      <td>101.26</td>\n",
              "      <td>Freezing Drizzle,Fog</td>\n",
              "    </tr>\n",
              "    <tr>\n",
              "      <th>3</th>\n",
              "      <td>2012-01-01 03:00:00</td>\n",
              "      <td>-1.5</td>\n",
              "      <td>-3.2</td>\n",
              "      <td>88</td>\n",
              "      <td>6</td>\n",
              "      <td>4.0</td>\n",
              "      <td>4000.0</td>\n",
              "      <td>101.27</td>\n",
              "      <td>Freezing Drizzle,Fog</td>\n",
              "    </tr>\n",
              "    <tr>\n",
              "      <th>4</th>\n",
              "      <td>2012-01-01 04:00:00</td>\n",
              "      <td>-1.5</td>\n",
              "      <td>-3.3</td>\n",
              "      <td>88</td>\n",
              "      <td>7</td>\n",
              "      <td>4.8</td>\n",
              "      <td>4800.0</td>\n",
              "      <td>101.23</td>\n",
              "      <td>Fog</td>\n",
              "    </tr>\n",
              "    <tr>\n",
              "      <th>...</th>\n",
              "      <td>...</td>\n",
              "      <td>...</td>\n",
              "      <td>...</td>\n",
              "      <td>...</td>\n",
              "      <td>...</td>\n",
              "      <td>...</td>\n",
              "      <td>...</td>\n",
              "      <td>...</td>\n",
              "      <td>...</td>\n",
              "    </tr>\n",
              "    <tr>\n",
              "      <th>8779</th>\n",
              "      <td>2012-12-31 19:00:00</td>\n",
              "      <td>0.1</td>\n",
              "      <td>-2.7</td>\n",
              "      <td>81</td>\n",
              "      <td>30</td>\n",
              "      <td>9.7</td>\n",
              "      <td>9700.0</td>\n",
              "      <td>100.13</td>\n",
              "      <td>Snow</td>\n",
              "    </tr>\n",
              "    <tr>\n",
              "      <th>8780</th>\n",
              "      <td>2012-12-31 20:00:00</td>\n",
              "      <td>0.2</td>\n",
              "      <td>-2.4</td>\n",
              "      <td>83</td>\n",
              "      <td>24</td>\n",
              "      <td>9.7</td>\n",
              "      <td>9700.0</td>\n",
              "      <td>100.03</td>\n",
              "      <td>Snow</td>\n",
              "    </tr>\n",
              "    <tr>\n",
              "      <th>8781</th>\n",
              "      <td>2012-12-31 21:00:00</td>\n",
              "      <td>-0.5</td>\n",
              "      <td>-1.5</td>\n",
              "      <td>93</td>\n",
              "      <td>28</td>\n",
              "      <td>4.8</td>\n",
              "      <td>4800.0</td>\n",
              "      <td>99.95</td>\n",
              "      <td>Snow</td>\n",
              "    </tr>\n",
              "    <tr>\n",
              "      <th>8782</th>\n",
              "      <td>2012-12-31 22:00:00</td>\n",
              "      <td>-0.2</td>\n",
              "      <td>-1.8</td>\n",
              "      <td>89</td>\n",
              "      <td>28</td>\n",
              "      <td>9.7</td>\n",
              "      <td>9700.0</td>\n",
              "      <td>99.91</td>\n",
              "      <td>Snow</td>\n",
              "    </tr>\n",
              "    <tr>\n",
              "      <th>8783</th>\n",
              "      <td>2012-12-31 23:00:00</td>\n",
              "      <td>0.0</td>\n",
              "      <td>-2.1</td>\n",
              "      <td>86</td>\n",
              "      <td>30</td>\n",
              "      <td>11.3</td>\n",
              "      <td>11300.0</td>\n",
              "      <td>99.89</td>\n",
              "      <td>Snow</td>\n",
              "    </tr>\n",
              "  </tbody>\n",
              "</table>\n",
              "<p>8784 rows × 9 columns</p>\n",
              "</div>"
            ],
            "text/plain": [
              "                Date/Time  Temp (C)  ...  Stn Press (kPa)               Weather\n",
              "0     2012-01-01 00:00:00      -1.8  ...           101.24                   Fog\n",
              "1     2012-01-01 01:00:00      -1.8  ...           101.24                   Fog\n",
              "2     2012-01-01 02:00:00      -1.8  ...           101.26  Freezing Drizzle,Fog\n",
              "3     2012-01-01 03:00:00      -1.5  ...           101.27  Freezing Drizzle,Fog\n",
              "4     2012-01-01 04:00:00      -1.5  ...           101.23                   Fog\n",
              "...                   ...       ...  ...              ...                   ...\n",
              "8779  2012-12-31 19:00:00       0.1  ...           100.13                  Snow\n",
              "8780  2012-12-31 20:00:00       0.2  ...           100.03                  Snow\n",
              "8781  2012-12-31 21:00:00      -0.5  ...            99.95                  Snow\n",
              "8782  2012-12-31 22:00:00      -0.2  ...            99.91                  Snow\n",
              "8783  2012-12-31 23:00:00       0.0  ...            99.89                  Snow\n",
              "\n",
              "[8784 rows x 9 columns]"
            ]
          },
          "metadata": {
            "tags": []
          },
          "execution_count": 83
        }
      ]
    },
    {
      "cell_type": "markdown",
      "metadata": {
        "id": "c6srHub60S9-",
        "colab_type": "text"
      },
      "source": [
        "Renaming columns"
      ]
    },
    {
      "cell_type": "code",
      "metadata": {
        "id": "So3b5H8lx7Vn",
        "colab_type": "code",
        "colab": {
          "base_uri": "https://localhost:8080/",
          "height": 201
        },
        "outputId": "d64fd189-3e6f-4284-f1aa-32f69428f85b"
      },
      "source": [
        "#renaming a column\n",
        "newdf.rename(columns={'Wind Spd (km/h)': 'Wind Speed (km/h)'}, inplace = True)\n",
        "newdf.head()"
      ],
      "execution_count": null,
      "outputs": [
        {
          "output_type": "execute_result",
          "data": {
            "text/html": [
              "<div>\n",
              "<style scoped>\n",
              "    .dataframe tbody tr th:only-of-type {\n",
              "        vertical-align: middle;\n",
              "    }\n",
              "\n",
              "    .dataframe tbody tr th {\n",
              "        vertical-align: top;\n",
              "    }\n",
              "\n",
              "    .dataframe thead th {\n",
              "        text-align: right;\n",
              "    }\n",
              "</style>\n",
              "<table border=\"1\" class=\"dataframe\">\n",
              "  <thead>\n",
              "    <tr style=\"text-align: right;\">\n",
              "      <th></th>\n",
              "      <th>Date/Time</th>\n",
              "      <th>Temp (C)</th>\n",
              "      <th>Dew Point Temp (C)</th>\n",
              "      <th>Rel Hum (%)</th>\n",
              "      <th>Wind Speed (km/h)</th>\n",
              "      <th>Visibility (km)</th>\n",
              "      <th>Visibility (m)</th>\n",
              "      <th>Stn Press (kPa)</th>\n",
              "      <th>Weather</th>\n",
              "    </tr>\n",
              "  </thead>\n",
              "  <tbody>\n",
              "    <tr>\n",
              "      <th>0</th>\n",
              "      <td>2012-01-01 00:00:00</td>\n",
              "      <td>-1.8</td>\n",
              "      <td>-3.9</td>\n",
              "      <td>86</td>\n",
              "      <td>4</td>\n",
              "      <td>8.0</td>\n",
              "      <td>8000.0</td>\n",
              "      <td>101.24</td>\n",
              "      <td>Fog</td>\n",
              "    </tr>\n",
              "    <tr>\n",
              "      <th>1</th>\n",
              "      <td>2012-01-01 01:00:00</td>\n",
              "      <td>-1.8</td>\n",
              "      <td>-3.7</td>\n",
              "      <td>87</td>\n",
              "      <td>4</td>\n",
              "      <td>8.0</td>\n",
              "      <td>8000.0</td>\n",
              "      <td>101.24</td>\n",
              "      <td>Fog</td>\n",
              "    </tr>\n",
              "    <tr>\n",
              "      <th>2</th>\n",
              "      <td>2012-01-01 02:00:00</td>\n",
              "      <td>-1.8</td>\n",
              "      <td>-3.4</td>\n",
              "      <td>89</td>\n",
              "      <td>7</td>\n",
              "      <td>4.0</td>\n",
              "      <td>4000.0</td>\n",
              "      <td>101.26</td>\n",
              "      <td>Freezing Drizzle,Fog</td>\n",
              "    </tr>\n",
              "    <tr>\n",
              "      <th>3</th>\n",
              "      <td>2012-01-01 03:00:00</td>\n",
              "      <td>-1.5</td>\n",
              "      <td>-3.2</td>\n",
              "      <td>88</td>\n",
              "      <td>6</td>\n",
              "      <td>4.0</td>\n",
              "      <td>4000.0</td>\n",
              "      <td>101.27</td>\n",
              "      <td>Freezing Drizzle,Fog</td>\n",
              "    </tr>\n",
              "    <tr>\n",
              "      <th>4</th>\n",
              "      <td>2012-01-01 04:00:00</td>\n",
              "      <td>-1.5</td>\n",
              "      <td>-3.3</td>\n",
              "      <td>88</td>\n",
              "      <td>7</td>\n",
              "      <td>4.8</td>\n",
              "      <td>4800.0</td>\n",
              "      <td>101.23</td>\n",
              "      <td>Fog</td>\n",
              "    </tr>\n",
              "  </tbody>\n",
              "</table>\n",
              "</div>"
            ],
            "text/plain": [
              "             Date/Time  Temp (C)  ...  Stn Press (kPa)               Weather\n",
              "0  2012-01-01 00:00:00      -1.8  ...           101.24                   Fog\n",
              "1  2012-01-01 01:00:00      -1.8  ...           101.24                   Fog\n",
              "2  2012-01-01 02:00:00      -1.8  ...           101.26  Freezing Drizzle,Fog\n",
              "3  2012-01-01 03:00:00      -1.5  ...           101.27  Freezing Drizzle,Fog\n",
              "4  2012-01-01 04:00:00      -1.5  ...           101.23                   Fog\n",
              "\n",
              "[5 rows x 9 columns]"
            ]
          },
          "metadata": {
            "tags": []
          },
          "execution_count": 86
        }
      ]
    },
    {
      "cell_type": "markdown",
      "metadata": {
        "id": "M4l0EDwZ0VZg",
        "colab_type": "text"
      },
      "source": [
        "Deleting columns"
      ]
    },
    {
      "cell_type": "code",
      "metadata": {
        "id": "psYAuHHCyrt4",
        "colab_type": "code",
        "colab": {
          "base_uri": "https://localhost:8080/",
          "height": 201
        },
        "outputId": "6ed080b3-67c7-4f8c-911e-14f13a783b46"
      },
      "source": [
        "weather_df.drop(labels=['Visibility (m)'],axis=1).head()"
      ],
      "execution_count": null,
      "outputs": [
        {
          "output_type": "execute_result",
          "data": {
            "text/html": [
              "<div>\n",
              "<style scoped>\n",
              "    .dataframe tbody tr th:only-of-type {\n",
              "        vertical-align: middle;\n",
              "    }\n",
              "\n",
              "    .dataframe tbody tr th {\n",
              "        vertical-align: top;\n",
              "    }\n",
              "\n",
              "    .dataframe thead th {\n",
              "        text-align: right;\n",
              "    }\n",
              "</style>\n",
              "<table border=\"1\" class=\"dataframe\">\n",
              "  <thead>\n",
              "    <tr style=\"text-align: right;\">\n",
              "      <th></th>\n",
              "      <th>Date/Time</th>\n",
              "      <th>Temp (C)</th>\n",
              "      <th>Dew Point Temp (C)</th>\n",
              "      <th>Rel Hum (%)</th>\n",
              "      <th>Wind Spd (km/h)</th>\n",
              "      <th>Visibility (km)</th>\n",
              "      <th>Stn Press (kPa)</th>\n",
              "      <th>Weather</th>\n",
              "    </tr>\n",
              "  </thead>\n",
              "  <tbody>\n",
              "    <tr>\n",
              "      <th>0</th>\n",
              "      <td>2012-01-01 00:00:00</td>\n",
              "      <td>-1.8</td>\n",
              "      <td>-3.9</td>\n",
              "      <td>86</td>\n",
              "      <td>4</td>\n",
              "      <td>8.0</td>\n",
              "      <td>101.24</td>\n",
              "      <td>Fog</td>\n",
              "    </tr>\n",
              "    <tr>\n",
              "      <th>1</th>\n",
              "      <td>2012-01-01 01:00:00</td>\n",
              "      <td>-1.8</td>\n",
              "      <td>-3.7</td>\n",
              "      <td>87</td>\n",
              "      <td>4</td>\n",
              "      <td>8.0</td>\n",
              "      <td>101.24</td>\n",
              "      <td>Fog</td>\n",
              "    </tr>\n",
              "    <tr>\n",
              "      <th>2</th>\n",
              "      <td>2012-01-01 02:00:00</td>\n",
              "      <td>-1.8</td>\n",
              "      <td>-3.4</td>\n",
              "      <td>89</td>\n",
              "      <td>7</td>\n",
              "      <td>4.0</td>\n",
              "      <td>101.26</td>\n",
              "      <td>Freezing Drizzle,Fog</td>\n",
              "    </tr>\n",
              "    <tr>\n",
              "      <th>3</th>\n",
              "      <td>2012-01-01 03:00:00</td>\n",
              "      <td>-1.5</td>\n",
              "      <td>-3.2</td>\n",
              "      <td>88</td>\n",
              "      <td>6</td>\n",
              "      <td>4.0</td>\n",
              "      <td>101.27</td>\n",
              "      <td>Freezing Drizzle,Fog</td>\n",
              "    </tr>\n",
              "    <tr>\n",
              "      <th>4</th>\n",
              "      <td>2012-01-01 04:00:00</td>\n",
              "      <td>-1.5</td>\n",
              "      <td>-3.3</td>\n",
              "      <td>88</td>\n",
              "      <td>7</td>\n",
              "      <td>4.8</td>\n",
              "      <td>101.23</td>\n",
              "      <td>Fog</td>\n",
              "    </tr>\n",
              "  </tbody>\n",
              "</table>\n",
              "</div>"
            ],
            "text/plain": [
              "             Date/Time  Temp (C)  ...  Stn Press (kPa)               Weather\n",
              "0  2012-01-01 00:00:00      -1.8  ...           101.24                   Fog\n",
              "1  2012-01-01 01:00:00      -1.8  ...           101.24                   Fog\n",
              "2  2012-01-01 02:00:00      -1.8  ...           101.26  Freezing Drizzle,Fog\n",
              "3  2012-01-01 03:00:00      -1.5  ...           101.27  Freezing Drizzle,Fog\n",
              "4  2012-01-01 04:00:00      -1.5  ...           101.23                   Fog\n",
              "\n",
              "[5 rows x 8 columns]"
            ]
          },
          "metadata": {
            "tags": []
          },
          "execution_count": 88
        }
      ]
    },
    {
      "cell_type": "markdown",
      "metadata": {
        "id": "r0JF7vwd0Yxs",
        "colab_type": "text"
      },
      "source": [
        "Sorting"
      ]
    },
    {
      "cell_type": "code",
      "metadata": {
        "id": "LwKMdccTzLTs",
        "colab_type": "code",
        "colab": {
          "base_uri": "https://localhost:8080/",
          "height": 201
        },
        "outputId": "d4d49895-e519-4b64-badb-1a399769da3d"
      },
      "source": [
        "sorted_by_temp = weather_df.sort_values(['Temp (C)'],ascending=False)\n",
        "sorted_by_temp.head()"
      ],
      "execution_count": null,
      "outputs": [
        {
          "output_type": "execute_result",
          "data": {
            "text/html": [
              "<div>\n",
              "<style scoped>\n",
              "    .dataframe tbody tr th:only-of-type {\n",
              "        vertical-align: middle;\n",
              "    }\n",
              "\n",
              "    .dataframe tbody tr th {\n",
              "        vertical-align: top;\n",
              "    }\n",
              "\n",
              "    .dataframe thead th {\n",
              "        text-align: right;\n",
              "    }\n",
              "</style>\n",
              "<table border=\"1\" class=\"dataframe\">\n",
              "  <thead>\n",
              "    <tr style=\"text-align: right;\">\n",
              "      <th></th>\n",
              "      <th>Date/Time</th>\n",
              "      <th>Temp (C)</th>\n",
              "      <th>Dew Point Temp (C)</th>\n",
              "      <th>Rel Hum (%)</th>\n",
              "      <th>Wind Spd (km/h)</th>\n",
              "      <th>Visibility (km)</th>\n",
              "      <th>Stn Press (kPa)</th>\n",
              "      <th>Weather</th>\n",
              "      <th>Visibility (m)</th>\n",
              "    </tr>\n",
              "  </thead>\n",
              "  <tbody>\n",
              "    <tr>\n",
              "      <th>4695</th>\n",
              "      <td>2012-07-14 15:00:00</td>\n",
              "      <td>33.0</td>\n",
              "      <td>16.8</td>\n",
              "      <td>38</td>\n",
              "      <td>22</td>\n",
              "      <td>48.3</td>\n",
              "      <td>101.31</td>\n",
              "      <td>Mainly Clear</td>\n",
              "      <td>48300.0</td>\n",
              "    </tr>\n",
              "    <tr>\n",
              "      <th>4143</th>\n",
              "      <td>2012-06-21 15:00:00</td>\n",
              "      <td>33.0</td>\n",
              "      <td>19.0</td>\n",
              "      <td>44</td>\n",
              "      <td>24</td>\n",
              "      <td>24.1</td>\n",
              "      <td>100.20</td>\n",
              "      <td>Mainly Clear</td>\n",
              "      <td>24100.0</td>\n",
              "    </tr>\n",
              "    <tr>\n",
              "      <th>4696</th>\n",
              "      <td>2012-07-14 16:00:00</td>\n",
              "      <td>32.9</td>\n",
              "      <td>15.3</td>\n",
              "      <td>35</td>\n",
              "      <td>24</td>\n",
              "      <td>48.3</td>\n",
              "      <td>101.26</td>\n",
              "      <td>Mainly Clear</td>\n",
              "      <td>48300.0</td>\n",
              "    </tr>\n",
              "    <tr>\n",
              "      <th>5199</th>\n",
              "      <td>2012-08-04 15:00:00</td>\n",
              "      <td>32.8</td>\n",
              "      <td>18.8</td>\n",
              "      <td>44</td>\n",
              "      <td>17</td>\n",
              "      <td>24.1</td>\n",
              "      <td>101.39</td>\n",
              "      <td>Clear</td>\n",
              "      <td>24100.0</td>\n",
              "    </tr>\n",
              "    <tr>\n",
              "      <th>4694</th>\n",
              "      <td>2012-07-14 14:00:00</td>\n",
              "      <td>32.7</td>\n",
              "      <td>15.3</td>\n",
              "      <td>35</td>\n",
              "      <td>28</td>\n",
              "      <td>48.3</td>\n",
              "      <td>101.35</td>\n",
              "      <td>Mainly Clear</td>\n",
              "      <td>48300.0</td>\n",
              "    </tr>\n",
              "  </tbody>\n",
              "</table>\n",
              "</div>"
            ],
            "text/plain": [
              "                Date/Time  Temp (C)  ...       Weather  Visibility (m)\n",
              "4695  2012-07-14 15:00:00      33.0  ...  Mainly Clear         48300.0\n",
              "4143  2012-06-21 15:00:00      33.0  ...  Mainly Clear         24100.0\n",
              "4696  2012-07-14 16:00:00      32.9  ...  Mainly Clear         48300.0\n",
              "5199  2012-08-04 15:00:00      32.8  ...         Clear         24100.0\n",
              "4694  2012-07-14 14:00:00      32.7  ...  Mainly Clear         48300.0\n",
              "\n",
              "[5 rows x 9 columns]"
            ]
          },
          "metadata": {
            "tags": []
          },
          "execution_count": 93
        }
      ]
    },
    {
      "cell_type": "code",
      "metadata": {
        "id": "cujgkSMlzo70",
        "colab_type": "code",
        "colab": {
          "base_uri": "https://localhost:8080/",
          "height": 353
        },
        "outputId": "648bf4a6-339f-48dc-ae8b-143e215deb6f"
      },
      "source": [
        "#finding the top 10 hottest loccation\n",
        "\n",
        "sorted_by_temp.head(10)"
      ],
      "execution_count": null,
      "outputs": [
        {
          "output_type": "execute_result",
          "data": {
            "text/html": [
              "<div>\n",
              "<style scoped>\n",
              "    .dataframe tbody tr th:only-of-type {\n",
              "        vertical-align: middle;\n",
              "    }\n",
              "\n",
              "    .dataframe tbody tr th {\n",
              "        vertical-align: top;\n",
              "    }\n",
              "\n",
              "    .dataframe thead th {\n",
              "        text-align: right;\n",
              "    }\n",
              "</style>\n",
              "<table border=\"1\" class=\"dataframe\">\n",
              "  <thead>\n",
              "    <tr style=\"text-align: right;\">\n",
              "      <th></th>\n",
              "      <th>Date/Time</th>\n",
              "      <th>Temp (C)</th>\n",
              "      <th>Dew Point Temp (C)</th>\n",
              "      <th>Rel Hum (%)</th>\n",
              "      <th>Wind Spd (km/h)</th>\n",
              "      <th>Visibility (km)</th>\n",
              "      <th>Stn Press (kPa)</th>\n",
              "      <th>Weather</th>\n",
              "      <th>Visibility (m)</th>\n",
              "    </tr>\n",
              "  </thead>\n",
              "  <tbody>\n",
              "    <tr>\n",
              "      <th>4695</th>\n",
              "      <td>2012-07-14 15:00:00</td>\n",
              "      <td>33.0</td>\n",
              "      <td>16.8</td>\n",
              "      <td>38</td>\n",
              "      <td>22</td>\n",
              "      <td>48.3</td>\n",
              "      <td>101.31</td>\n",
              "      <td>Mainly Clear</td>\n",
              "      <td>48300.0</td>\n",
              "    </tr>\n",
              "    <tr>\n",
              "      <th>4143</th>\n",
              "      <td>2012-06-21 15:00:00</td>\n",
              "      <td>33.0</td>\n",
              "      <td>19.0</td>\n",
              "      <td>44</td>\n",
              "      <td>24</td>\n",
              "      <td>24.1</td>\n",
              "      <td>100.20</td>\n",
              "      <td>Mainly Clear</td>\n",
              "      <td>24100.0</td>\n",
              "    </tr>\n",
              "    <tr>\n",
              "      <th>4696</th>\n",
              "      <td>2012-07-14 16:00:00</td>\n",
              "      <td>32.9</td>\n",
              "      <td>15.3</td>\n",
              "      <td>35</td>\n",
              "      <td>24</td>\n",
              "      <td>48.3</td>\n",
              "      <td>101.26</td>\n",
              "      <td>Mainly Clear</td>\n",
              "      <td>48300.0</td>\n",
              "    </tr>\n",
              "    <tr>\n",
              "      <th>5199</th>\n",
              "      <td>2012-08-04 15:00:00</td>\n",
              "      <td>32.8</td>\n",
              "      <td>18.8</td>\n",
              "      <td>44</td>\n",
              "      <td>17</td>\n",
              "      <td>24.1</td>\n",
              "      <td>101.39</td>\n",
              "      <td>Clear</td>\n",
              "      <td>24100.0</td>\n",
              "    </tr>\n",
              "    <tr>\n",
              "      <th>4694</th>\n",
              "      <td>2012-07-14 14:00:00</td>\n",
              "      <td>32.7</td>\n",
              "      <td>15.3</td>\n",
              "      <td>35</td>\n",
              "      <td>28</td>\n",
              "      <td>48.3</td>\n",
              "      <td>101.35</td>\n",
              "      <td>Mainly Clear</td>\n",
              "      <td>48300.0</td>\n",
              "    </tr>\n",
              "    <tr>\n",
              "      <th>4142</th>\n",
              "      <td>2012-06-21 14:00:00</td>\n",
              "      <td>32.6</td>\n",
              "      <td>20.4</td>\n",
              "      <td>49</td>\n",
              "      <td>20</td>\n",
              "      <td>24.1</td>\n",
              "      <td>100.25</td>\n",
              "      <td>Mainly Clear</td>\n",
              "      <td>24100.0</td>\n",
              "    </tr>\n",
              "    <tr>\n",
              "      <th>5201</th>\n",
              "      <td>2012-08-04 17:00:00</td>\n",
              "      <td>32.5</td>\n",
              "      <td>19.8</td>\n",
              "      <td>47</td>\n",
              "      <td>13</td>\n",
              "      <td>24.1</td>\n",
              "      <td>101.32</td>\n",
              "      <td>Clear</td>\n",
              "      <td>24100.0</td>\n",
              "    </tr>\n",
              "    <tr>\n",
              "      <th>5200</th>\n",
              "      <td>2012-08-04 16:00:00</td>\n",
              "      <td>32.5</td>\n",
              "      <td>18.5</td>\n",
              "      <td>44</td>\n",
              "      <td>15</td>\n",
              "      <td>24.1</td>\n",
              "      <td>101.34</td>\n",
              "      <td>Clear</td>\n",
              "      <td>24100.0</td>\n",
              "    </tr>\n",
              "    <tr>\n",
              "      <th>4697</th>\n",
              "      <td>2012-07-14 17:00:00</td>\n",
              "      <td>32.5</td>\n",
              "      <td>16.5</td>\n",
              "      <td>38</td>\n",
              "      <td>19</td>\n",
              "      <td>48.3</td>\n",
              "      <td>101.22</td>\n",
              "      <td>Mainly Clear</td>\n",
              "      <td>48300.0</td>\n",
              "    </tr>\n",
              "    <tr>\n",
              "      <th>4144</th>\n",
              "      <td>2012-06-21 16:00:00</td>\n",
              "      <td>32.5</td>\n",
              "      <td>17.9</td>\n",
              "      <td>42</td>\n",
              "      <td>24</td>\n",
              "      <td>24.1</td>\n",
              "      <td>100.14</td>\n",
              "      <td>Mainly Clear</td>\n",
              "      <td>24100.0</td>\n",
              "    </tr>\n",
              "  </tbody>\n",
              "</table>\n",
              "</div>"
            ],
            "text/plain": [
              "                Date/Time  Temp (C)  ...       Weather  Visibility (m)\n",
              "4695  2012-07-14 15:00:00      33.0  ...  Mainly Clear         48300.0\n",
              "4143  2012-06-21 15:00:00      33.0  ...  Mainly Clear         24100.0\n",
              "4696  2012-07-14 16:00:00      32.9  ...  Mainly Clear         48300.0\n",
              "5199  2012-08-04 15:00:00      32.8  ...         Clear         24100.0\n",
              "4694  2012-07-14 14:00:00      32.7  ...  Mainly Clear         48300.0\n",
              "4142  2012-06-21 14:00:00      32.6  ...  Mainly Clear         24100.0\n",
              "5201  2012-08-04 17:00:00      32.5  ...         Clear         24100.0\n",
              "5200  2012-08-04 16:00:00      32.5  ...         Clear         24100.0\n",
              "4697  2012-07-14 17:00:00      32.5  ...  Mainly Clear         48300.0\n",
              "4144  2012-06-21 16:00:00      32.5  ...  Mainly Clear         24100.0\n",
              "\n",
              "[10 rows x 9 columns]"
            ]
          },
          "metadata": {
            "tags": []
          },
          "execution_count": 95
        }
      ]
    },
    {
      "cell_type": "code",
      "metadata": {
        "id": "e29PK9rS0taE",
        "colab_type": "code",
        "colab": {
          "base_uri": "https://localhost:8080/",
          "height": 353
        },
        "outputId": "f4c95df2-821e-4211-d525-6dbe9398a5c4"
      },
      "source": [
        "#top 10 alternative\n",
        "\n",
        "sorted_by_temp.iloc[:10]"
      ],
      "execution_count": null,
      "outputs": [
        {
          "output_type": "execute_result",
          "data": {
            "text/html": [
              "<div>\n",
              "<style scoped>\n",
              "    .dataframe tbody tr th:only-of-type {\n",
              "        vertical-align: middle;\n",
              "    }\n",
              "\n",
              "    .dataframe tbody tr th {\n",
              "        vertical-align: top;\n",
              "    }\n",
              "\n",
              "    .dataframe thead th {\n",
              "        text-align: right;\n",
              "    }\n",
              "</style>\n",
              "<table border=\"1\" class=\"dataframe\">\n",
              "  <thead>\n",
              "    <tr style=\"text-align: right;\">\n",
              "      <th></th>\n",
              "      <th>Date/Time</th>\n",
              "      <th>Temp (C)</th>\n",
              "      <th>Dew Point Temp (C)</th>\n",
              "      <th>Rel Hum (%)</th>\n",
              "      <th>Wind Spd (km/h)</th>\n",
              "      <th>Visibility (km)</th>\n",
              "      <th>Stn Press (kPa)</th>\n",
              "      <th>Weather</th>\n",
              "      <th>Visibility (m)</th>\n",
              "    </tr>\n",
              "  </thead>\n",
              "  <tbody>\n",
              "    <tr>\n",
              "      <th>4695</th>\n",
              "      <td>2012-07-14 15:00:00</td>\n",
              "      <td>33.0</td>\n",
              "      <td>16.8</td>\n",
              "      <td>38</td>\n",
              "      <td>22</td>\n",
              "      <td>48.3</td>\n",
              "      <td>101.31</td>\n",
              "      <td>Mainly Clear</td>\n",
              "      <td>48300.0</td>\n",
              "    </tr>\n",
              "    <tr>\n",
              "      <th>4143</th>\n",
              "      <td>2012-06-21 15:00:00</td>\n",
              "      <td>33.0</td>\n",
              "      <td>19.0</td>\n",
              "      <td>44</td>\n",
              "      <td>24</td>\n",
              "      <td>24.1</td>\n",
              "      <td>100.20</td>\n",
              "      <td>Mainly Clear</td>\n",
              "      <td>24100.0</td>\n",
              "    </tr>\n",
              "    <tr>\n",
              "      <th>4696</th>\n",
              "      <td>2012-07-14 16:00:00</td>\n",
              "      <td>32.9</td>\n",
              "      <td>15.3</td>\n",
              "      <td>35</td>\n",
              "      <td>24</td>\n",
              "      <td>48.3</td>\n",
              "      <td>101.26</td>\n",
              "      <td>Mainly Clear</td>\n",
              "      <td>48300.0</td>\n",
              "    </tr>\n",
              "    <tr>\n",
              "      <th>5199</th>\n",
              "      <td>2012-08-04 15:00:00</td>\n",
              "      <td>32.8</td>\n",
              "      <td>18.8</td>\n",
              "      <td>44</td>\n",
              "      <td>17</td>\n",
              "      <td>24.1</td>\n",
              "      <td>101.39</td>\n",
              "      <td>Clear</td>\n",
              "      <td>24100.0</td>\n",
              "    </tr>\n",
              "    <tr>\n",
              "      <th>4694</th>\n",
              "      <td>2012-07-14 14:00:00</td>\n",
              "      <td>32.7</td>\n",
              "      <td>15.3</td>\n",
              "      <td>35</td>\n",
              "      <td>28</td>\n",
              "      <td>48.3</td>\n",
              "      <td>101.35</td>\n",
              "      <td>Mainly Clear</td>\n",
              "      <td>48300.0</td>\n",
              "    </tr>\n",
              "    <tr>\n",
              "      <th>4142</th>\n",
              "      <td>2012-06-21 14:00:00</td>\n",
              "      <td>32.6</td>\n",
              "      <td>20.4</td>\n",
              "      <td>49</td>\n",
              "      <td>20</td>\n",
              "      <td>24.1</td>\n",
              "      <td>100.25</td>\n",
              "      <td>Mainly Clear</td>\n",
              "      <td>24100.0</td>\n",
              "    </tr>\n",
              "    <tr>\n",
              "      <th>5201</th>\n",
              "      <td>2012-08-04 17:00:00</td>\n",
              "      <td>32.5</td>\n",
              "      <td>19.8</td>\n",
              "      <td>47</td>\n",
              "      <td>13</td>\n",
              "      <td>24.1</td>\n",
              "      <td>101.32</td>\n",
              "      <td>Clear</td>\n",
              "      <td>24100.0</td>\n",
              "    </tr>\n",
              "    <tr>\n",
              "      <th>5200</th>\n",
              "      <td>2012-08-04 16:00:00</td>\n",
              "      <td>32.5</td>\n",
              "      <td>18.5</td>\n",
              "      <td>44</td>\n",
              "      <td>15</td>\n",
              "      <td>24.1</td>\n",
              "      <td>101.34</td>\n",
              "      <td>Clear</td>\n",
              "      <td>24100.0</td>\n",
              "    </tr>\n",
              "    <tr>\n",
              "      <th>4697</th>\n",
              "      <td>2012-07-14 17:00:00</td>\n",
              "      <td>32.5</td>\n",
              "      <td>16.5</td>\n",
              "      <td>38</td>\n",
              "      <td>19</td>\n",
              "      <td>48.3</td>\n",
              "      <td>101.22</td>\n",
              "      <td>Mainly Clear</td>\n",
              "      <td>48300.0</td>\n",
              "    </tr>\n",
              "    <tr>\n",
              "      <th>4144</th>\n",
              "      <td>2012-06-21 16:00:00</td>\n",
              "      <td>32.5</td>\n",
              "      <td>17.9</td>\n",
              "      <td>42</td>\n",
              "      <td>24</td>\n",
              "      <td>24.1</td>\n",
              "      <td>100.14</td>\n",
              "      <td>Mainly Clear</td>\n",
              "      <td>24100.0</td>\n",
              "    </tr>\n",
              "  </tbody>\n",
              "</table>\n",
              "</div>"
            ],
            "text/plain": [
              "                Date/Time  Temp (C)  ...       Weather  Visibility (m)\n",
              "4695  2012-07-14 15:00:00      33.0  ...  Mainly Clear         48300.0\n",
              "4143  2012-06-21 15:00:00      33.0  ...  Mainly Clear         24100.0\n",
              "4696  2012-07-14 16:00:00      32.9  ...  Mainly Clear         48300.0\n",
              "5199  2012-08-04 15:00:00      32.8  ...         Clear         24100.0\n",
              "4694  2012-07-14 14:00:00      32.7  ...  Mainly Clear         48300.0\n",
              "4142  2012-06-21 14:00:00      32.6  ...  Mainly Clear         24100.0\n",
              "5201  2012-08-04 17:00:00      32.5  ...         Clear         24100.0\n",
              "5200  2012-08-04 16:00:00      32.5  ...         Clear         24100.0\n",
              "4697  2012-07-14 17:00:00      32.5  ...  Mainly Clear         48300.0\n",
              "4144  2012-06-21 16:00:00      32.5  ...  Mainly Clear         24100.0\n",
              "\n",
              "[10 rows x 9 columns]"
            ]
          },
          "metadata": {
            "tags": []
          },
          "execution_count": 96
        }
      ]
    },
    {
      "cell_type": "code",
      "metadata": {
        "id": "PBwV937205gC",
        "colab_type": "code",
        "colab": {
          "base_uri": "https://localhost:8080/",
          "height": 116
        },
        "outputId": "16182a07-26f4-4eab-ba32-3e78f7fec6e2"
      },
      "source": [
        "#top 10 warmest counts\n",
        "\n",
        "sorted_by_temp['Temp (C)'].value_counts().sort_values(ascending=False).head()"
      ],
      "execution_count": null,
      "outputs": [
        {
          "output_type": "execute_result",
          "data": {
            "text/plain": [
              "16.6    65\n",
              "1.1     58\n",
              "0.8     47\n",
              "1.5     45\n",
              "19.3    44\n",
              "Name: Temp (C), dtype: int64"
            ]
          },
          "metadata": {
            "tags": []
          },
          "execution_count": 104
        }
      ]
    },
    {
      "cell_type": "markdown",
      "metadata": {
        "id": "7ZRk4WFz7ssW",
        "colab_type": "text"
      },
      "source": [
        "Mean temperature recorded by month"
      ]
    },
    {
      "cell_type": "code",
      "metadata": {
        "id": "TpbKllIz7ywQ",
        "colab_type": "code",
        "colab": {
          "base_uri": "https://localhost:8080/",
          "height": 232
        },
        "outputId": "cb43748d-b3e5-47ce-9029-871ce19c5d3c"
      },
      "source": [
        "mean_temp = {}\n",
        "for month in range(1,13):\n",
        "  mean_temp[month] = weather_df.loc[weather_df['Date/Time'].dt.month == month, 'Temp (C)'].mean()\n",
        "pd.Series(mean_temp)"
      ],
      "execution_count": null,
      "outputs": [
        {
          "output_type": "execute_result",
          "data": {
            "text/plain": [
              "1     -7.371505\n",
              "2     -4.225000\n",
              "3      3.121237\n",
              "4      7.009306\n",
              "5     16.237769\n",
              "6     20.134028\n",
              "7     22.790054\n",
              "8     22.279301\n",
              "9     16.484444\n",
              "10    10.954973\n",
              "11     0.931389\n",
              "12    -3.306317\n",
              "dtype: float64"
            ]
          },
          "metadata": {
            "tags": []
          },
          "execution_count": 109
        }
      ]
    },
    {
      "cell_type": "markdown",
      "metadata": {
        "id": "MLQMVAWB9GrE",
        "colab_type": "text"
      },
      "source": [
        "#Pivot Tables "
      ]
    },
    {
      "cell_type": "code",
      "metadata": {
        "id": "WEUmtMIp9JLv",
        "colab_type": "code",
        "colab": {
          "base_uri": "https://localhost:8080/",
          "height": 231
        },
        "outputId": "5439f783-a230-47aa-b701-aa27520f6452"
      },
      "source": [
        "data = {\n",
        "    'A': ['foo','foo','foo','bar','bar','bar'],\n",
        "    'B': ['one','one','two','two','one','one'],\n",
        "    'C': ['x','y','x','y','x','y'],\n",
        "    'D': [1, 3, 2, 5, 4, 1]\n",
        "}\n",
        "df = pd.DataFrame(data)\n",
        "df"
      ],
      "execution_count": null,
      "outputs": [
        {
          "output_type": "execute_result",
          "data": {
            "text/html": [
              "<div>\n",
              "<style scoped>\n",
              "    .dataframe tbody tr th:only-of-type {\n",
              "        vertical-align: middle;\n",
              "    }\n",
              "\n",
              "    .dataframe tbody tr th {\n",
              "        vertical-align: top;\n",
              "    }\n",
              "\n",
              "    .dataframe thead th {\n",
              "        text-align: right;\n",
              "    }\n",
              "</style>\n",
              "<table border=\"1\" class=\"dataframe\">\n",
              "  <thead>\n",
              "    <tr style=\"text-align: right;\">\n",
              "      <th></th>\n",
              "      <th>A</th>\n",
              "      <th>B</th>\n",
              "      <th>C</th>\n",
              "      <th>D</th>\n",
              "    </tr>\n",
              "  </thead>\n",
              "  <tbody>\n",
              "    <tr>\n",
              "      <th>0</th>\n",
              "      <td>foo</td>\n",
              "      <td>one</td>\n",
              "      <td>x</td>\n",
              "      <td>1</td>\n",
              "    </tr>\n",
              "    <tr>\n",
              "      <th>1</th>\n",
              "      <td>foo</td>\n",
              "      <td>one</td>\n",
              "      <td>y</td>\n",
              "      <td>3</td>\n",
              "    </tr>\n",
              "    <tr>\n",
              "      <th>2</th>\n",
              "      <td>foo</td>\n",
              "      <td>two</td>\n",
              "      <td>x</td>\n",
              "      <td>2</td>\n",
              "    </tr>\n",
              "    <tr>\n",
              "      <th>3</th>\n",
              "      <td>bar</td>\n",
              "      <td>two</td>\n",
              "      <td>y</td>\n",
              "      <td>5</td>\n",
              "    </tr>\n",
              "    <tr>\n",
              "      <th>4</th>\n",
              "      <td>bar</td>\n",
              "      <td>one</td>\n",
              "      <td>x</td>\n",
              "      <td>4</td>\n",
              "    </tr>\n",
              "    <tr>\n",
              "      <th>5</th>\n",
              "      <td>bar</td>\n",
              "      <td>one</td>\n",
              "      <td>y</td>\n",
              "      <td>1</td>\n",
              "    </tr>\n",
              "  </tbody>\n",
              "</table>\n",
              "</div>"
            ],
            "text/plain": [
              "     A    B  C  D\n",
              "0  foo  one  x  1\n",
              "1  foo  one  y  3\n",
              "2  foo  two  x  2\n",
              "3  bar  two  y  5\n",
              "4  bar  one  x  4\n",
              "5  bar  one  y  1"
            ]
          },
          "metadata": {
            "tags": []
          },
          "execution_count": 110
        }
      ]
    },
    {
      "cell_type": "code",
      "metadata": {
        "id": "9zSVxp21BTdL",
        "colab_type": "code",
        "colab": {
          "base_uri": "https://localhost:8080/",
          "height": 140
        },
        "outputId": "589cd2a2-e1af-40b0-bc12-a14f171cbe46"
      },
      "source": [
        "dfpivot = df.pivot_table(\n",
        "    values='D',\n",
        "    index='A',\n",
        "    columns='C',\n",
        "    aggfunc='sum'\n",
        ")\n",
        "dfpivot"
      ],
      "execution_count": null,
      "outputs": [
        {
          "output_type": "execute_result",
          "data": {
            "text/html": [
              "<div>\n",
              "<style scoped>\n",
              "    .dataframe tbody tr th:only-of-type {\n",
              "        vertical-align: middle;\n",
              "    }\n",
              "\n",
              "    .dataframe tbody tr th {\n",
              "        vertical-align: top;\n",
              "    }\n",
              "\n",
              "    .dataframe thead th {\n",
              "        text-align: right;\n",
              "    }\n",
              "</style>\n",
              "<table border=\"1\" class=\"dataframe\">\n",
              "  <thead>\n",
              "    <tr style=\"text-align: right;\">\n",
              "      <th>C</th>\n",
              "      <th>x</th>\n",
              "      <th>y</th>\n",
              "    </tr>\n",
              "    <tr>\n",
              "      <th>A</th>\n",
              "      <th></th>\n",
              "      <th></th>\n",
              "    </tr>\n",
              "  </thead>\n",
              "  <tbody>\n",
              "    <tr>\n",
              "      <th>bar</th>\n",
              "      <td>4</td>\n",
              "      <td>6</td>\n",
              "    </tr>\n",
              "    <tr>\n",
              "      <th>foo</th>\n",
              "      <td>3</td>\n",
              "      <td>3</td>\n",
              "    </tr>\n",
              "  </tbody>\n",
              "</table>\n",
              "</div>"
            ],
            "text/plain": [
              "C    x  y\n",
              "A        \n",
              "bar  4  6\n",
              "foo  3  3"
            ]
          },
          "metadata": {
            "tags": []
          },
          "execution_count": 111
        }
      ]
    },
    {
      "cell_type": "code",
      "metadata": {
        "id": "FYMYMbHmBvbE",
        "colab_type": "code",
        "colab": {
          "base_uri": "https://localhost:8080/",
          "height": 444
        },
        "outputId": "d417cf8f-3ad2-4c66-b886-f9d00856175b"
      },
      "source": [
        "mean_temp_df = weather_df.pivot_table(values='Temp (C)',index=weather_df['Date/Time'].dt.month, aggfunc='mean')\n",
        "mean_temp_df"
      ],
      "execution_count": 112,
      "outputs": [
        {
          "output_type": "execute_result",
          "data": {
            "text/html": [
              "<div>\n",
              "<style scoped>\n",
              "    .dataframe tbody tr th:only-of-type {\n",
              "        vertical-align: middle;\n",
              "    }\n",
              "\n",
              "    .dataframe tbody tr th {\n",
              "        vertical-align: top;\n",
              "    }\n",
              "\n",
              "    .dataframe thead th {\n",
              "        text-align: right;\n",
              "    }\n",
              "</style>\n",
              "<table border=\"1\" class=\"dataframe\">\n",
              "  <thead>\n",
              "    <tr style=\"text-align: right;\">\n",
              "      <th></th>\n",
              "      <th>Temp (C)</th>\n",
              "    </tr>\n",
              "    <tr>\n",
              "      <th>Date/Time</th>\n",
              "      <th></th>\n",
              "    </tr>\n",
              "  </thead>\n",
              "  <tbody>\n",
              "    <tr>\n",
              "      <th>1</th>\n",
              "      <td>-7.371505</td>\n",
              "    </tr>\n",
              "    <tr>\n",
              "      <th>2</th>\n",
              "      <td>-4.225000</td>\n",
              "    </tr>\n",
              "    <tr>\n",
              "      <th>3</th>\n",
              "      <td>3.121237</td>\n",
              "    </tr>\n",
              "    <tr>\n",
              "      <th>4</th>\n",
              "      <td>7.009306</td>\n",
              "    </tr>\n",
              "    <tr>\n",
              "      <th>5</th>\n",
              "      <td>16.237769</td>\n",
              "    </tr>\n",
              "    <tr>\n",
              "      <th>6</th>\n",
              "      <td>20.134028</td>\n",
              "    </tr>\n",
              "    <tr>\n",
              "      <th>7</th>\n",
              "      <td>22.790054</td>\n",
              "    </tr>\n",
              "    <tr>\n",
              "      <th>8</th>\n",
              "      <td>22.279301</td>\n",
              "    </tr>\n",
              "    <tr>\n",
              "      <th>9</th>\n",
              "      <td>16.484444</td>\n",
              "    </tr>\n",
              "    <tr>\n",
              "      <th>10</th>\n",
              "      <td>10.954973</td>\n",
              "    </tr>\n",
              "    <tr>\n",
              "      <th>11</th>\n",
              "      <td>0.931389</td>\n",
              "    </tr>\n",
              "    <tr>\n",
              "      <th>12</th>\n",
              "      <td>-3.306317</td>\n",
              "    </tr>\n",
              "  </tbody>\n",
              "</table>\n",
              "</div>"
            ],
            "text/plain": [
              "            Temp (C)\n",
              "Date/Time           \n",
              "1          -7.371505\n",
              "2          -4.225000\n",
              "3           3.121237\n",
              "4           7.009306\n",
              "5          16.237769\n",
              "6          20.134028\n",
              "7          22.790054\n",
              "8          22.279301\n",
              "9          16.484444\n",
              "10         10.954973\n",
              "11          0.931389\n",
              "12         -3.306317"
            ]
          },
          "metadata": {
            "tags": []
          },
          "execution_count": 112
        }
      ]
    },
    {
      "cell_type": "markdown",
      "metadata": {
        "id": "NaSEAnUsFIUc",
        "colab_type": "text"
      },
      "source": [
        "#Group By"
      ]
    },
    {
      "cell_type": "code",
      "metadata": {
        "id": "hjWe2yXuFK1P",
        "colab_type": "code",
        "colab": {
          "base_uri": "https://localhost:8080/",
          "height": 414
        },
        "outputId": "fc81a9d0-a349-4477-d2ed-194efd13950c"
      },
      "source": [
        "#Grouping data by the mean of all values in chronological order\n",
        "\n",
        "import numpy as np\n",
        "\n",
        "mean_temp_df2 = weather_df.groupby(weather_df['Date/Time'].dt.month).agg(np.mean).reset_index()\n",
        "mean_temp_df2"
      ],
      "execution_count": 115,
      "outputs": [
        {
          "output_type": "execute_result",
          "data": {
            "text/html": [
              "<div>\n",
              "<style scoped>\n",
              "    .dataframe tbody tr th:only-of-type {\n",
              "        vertical-align: middle;\n",
              "    }\n",
              "\n",
              "    .dataframe tbody tr th {\n",
              "        vertical-align: top;\n",
              "    }\n",
              "\n",
              "    .dataframe thead th {\n",
              "        text-align: right;\n",
              "    }\n",
              "</style>\n",
              "<table border=\"1\" class=\"dataframe\">\n",
              "  <thead>\n",
              "    <tr style=\"text-align: right;\">\n",
              "      <th></th>\n",
              "      <th>Date/Time</th>\n",
              "      <th>Temp (C)</th>\n",
              "      <th>Dew Point Temp (C)</th>\n",
              "      <th>Rel Hum (%)</th>\n",
              "      <th>Wind Spd (km/h)</th>\n",
              "      <th>Visibility (km)</th>\n",
              "      <th>Stn Press (kPa)</th>\n",
              "      <th>Visibility (m)</th>\n",
              "    </tr>\n",
              "  </thead>\n",
              "  <tbody>\n",
              "    <tr>\n",
              "      <th>0</th>\n",
              "      <td>1</td>\n",
              "      <td>-7.371505</td>\n",
              "      <td>-12.294758</td>\n",
              "      <td>68.383065</td>\n",
              "      <td>18.108871</td>\n",
              "      <td>22.100269</td>\n",
              "      <td>101.005349</td>\n",
              "      <td>22100.268817</td>\n",
              "    </tr>\n",
              "    <tr>\n",
              "      <th>1</th>\n",
              "      <td>2</td>\n",
              "      <td>-4.225000</td>\n",
              "      <td>-9.221695</td>\n",
              "      <td>68.956897</td>\n",
              "      <td>14.837644</td>\n",
              "      <td>25.182184</td>\n",
              "      <td>101.142414</td>\n",
              "      <td>25182.183908</td>\n",
              "    </tr>\n",
              "    <tr>\n",
              "      <th>2</th>\n",
              "      <td>3</td>\n",
              "      <td>3.121237</td>\n",
              "      <td>-3.488575</td>\n",
              "      <td>64.862903</td>\n",
              "      <td>14.514785</td>\n",
              "      <td>26.177957</td>\n",
              "      <td>101.335255</td>\n",
              "      <td>26177.956989</td>\n",
              "    </tr>\n",
              "    <tr>\n",
              "      <th>3</th>\n",
              "      <td>4</td>\n",
              "      <td>7.009306</td>\n",
              "      <td>-1.934583</td>\n",
              "      <td>56.150000</td>\n",
              "      <td>17.369444</td>\n",
              "      <td>31.777083</td>\n",
              "      <td>100.716833</td>\n",
              "      <td>31777.083333</td>\n",
              "    </tr>\n",
              "    <tr>\n",
              "      <th>4</th>\n",
              "      <td>5</td>\n",
              "      <td>16.237769</td>\n",
              "      <td>8.080780</td>\n",
              "      <td>61.760753</td>\n",
              "      <td>12.846774</td>\n",
              "      <td>29.418548</td>\n",
              "      <td>101.057164</td>\n",
              "      <td>29418.548387</td>\n",
              "    </tr>\n",
              "    <tr>\n",
              "      <th>5</th>\n",
              "      <td>6</td>\n",
              "      <td>20.134028</td>\n",
              "      <td>11.738056</td>\n",
              "      <td>60.643056</td>\n",
              "      <td>14.681944</td>\n",
              "      <td>32.104167</td>\n",
              "      <td>100.784222</td>\n",
              "      <td>32104.166667</td>\n",
              "    </tr>\n",
              "    <tr>\n",
              "      <th>6</th>\n",
              "      <td>7</td>\n",
              "      <td>22.790054</td>\n",
              "      <td>14.595430</td>\n",
              "      <td>62.017473</td>\n",
              "      <td>11.887097</td>\n",
              "      <td>33.655108</td>\n",
              "      <td>100.828333</td>\n",
              "      <td>33655.107527</td>\n",
              "    </tr>\n",
              "    <tr>\n",
              "      <th>7</th>\n",
              "      <td>8</td>\n",
              "      <td>22.279301</td>\n",
              "      <td>15.644758</td>\n",
              "      <td>67.943548</td>\n",
              "      <td>13.931452</td>\n",
              "      <td>30.192608</td>\n",
              "      <td>100.927097</td>\n",
              "      <td>30192.607527</td>\n",
              "    </tr>\n",
              "    <tr>\n",
              "      <th>8</th>\n",
              "      <td>9</td>\n",
              "      <td>16.484444</td>\n",
              "      <td>10.757917</td>\n",
              "      <td>71.165278</td>\n",
              "      <td>14.108333</td>\n",
              "      <td>30.603472</td>\n",
              "      <td>101.087903</td>\n",
              "      <td>30603.472222</td>\n",
              "    </tr>\n",
              "    <tr>\n",
              "      <th>9</th>\n",
              "      <td>10</td>\n",
              "      <td>10.954973</td>\n",
              "      <td>6.533468</td>\n",
              "      <td>75.731183</td>\n",
              "      <td>15.475806</td>\n",
              "      <td>25.111022</td>\n",
              "      <td>100.909368</td>\n",
              "      <td>25111.021505</td>\n",
              "    </tr>\n",
              "    <tr>\n",
              "      <th>10</th>\n",
              "      <td>11</td>\n",
              "      <td>0.931389</td>\n",
              "      <td>-4.179306</td>\n",
              "      <td>69.984722</td>\n",
              "      <td>13.973611</td>\n",
              "      <td>26.077083</td>\n",
              "      <td>101.658306</td>\n",
              "      <td>26077.083333</td>\n",
              "    </tr>\n",
              "    <tr>\n",
              "      <th>11</th>\n",
              "      <td>12</td>\n",
              "      <td>-3.306317</td>\n",
              "      <td>-6.129032</td>\n",
              "      <td>81.299731</td>\n",
              "      <td>17.614247</td>\n",
              "      <td>19.733199</td>\n",
              "      <td>101.174409</td>\n",
              "      <td>19733.198925</td>\n",
              "    </tr>\n",
              "  </tbody>\n",
              "</table>\n",
              "</div>"
            ],
            "text/plain": [
              "    Date/Time   Temp (C)  ...  Stn Press (kPa)  Visibility (m)\n",
              "0           1  -7.371505  ...       101.005349    22100.268817\n",
              "1           2  -4.225000  ...       101.142414    25182.183908\n",
              "2           3   3.121237  ...       101.335255    26177.956989\n",
              "3           4   7.009306  ...       100.716833    31777.083333\n",
              "4           5  16.237769  ...       101.057164    29418.548387\n",
              "5           6  20.134028  ...       100.784222    32104.166667\n",
              "6           7  22.790054  ...       100.828333    33655.107527\n",
              "7           8  22.279301  ...       100.927097    30192.607527\n",
              "8           9  16.484444  ...       101.087903    30603.472222\n",
              "9          10  10.954973  ...       100.909368    25111.021505\n",
              "10         11   0.931389  ...       101.658306    26077.083333\n",
              "11         12  -3.306317  ...       101.174409    19733.198925\n",
              "\n",
              "[12 rows x 8 columns]"
            ]
          },
          "metadata": {
            "tags": []
          },
          "execution_count": 115
        }
      ]
    }
  ]
}